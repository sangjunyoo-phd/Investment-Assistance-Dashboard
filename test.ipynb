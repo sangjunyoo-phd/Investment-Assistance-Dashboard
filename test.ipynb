{
 "cells": [
  {
   "cell_type": "code",
   "execution_count": 1,
   "metadata": {},
   "outputs": [],
   "source": [
    "# from quantitative_analysis import fetch_stock_data, calculate_technical_indicators\n",
    "import plotly.express as px\n",
    "import yfinance as yf\n",
    "import pandas as pd\n",
    "import numpy as np"
   ]
  },
  {
   "cell_type": "markdown",
   "metadata": {},
   "source": [
    "# Structured output"
   ]
  },
  {
   "cell_type": "code",
   "execution_count": 20,
   "metadata": {},
   "outputs": [],
   "source": [
    "import ollama\n",
    "from pydantic import BaseModel\n",
    "from typing import Dict, List"
   ]
  },
  {
   "cell_type": "code",
   "execution_count": 15,
   "metadata": {},
   "outputs": [],
   "source": [
    "class TickerResponse(BaseModel):\n",
    "    name: str\n",
    "    ticker: str\n",
    "\n",
    "class TickerEvaluation(BaseModel):\n",
    "    they_are_same:bool"
   ]
  },
  {
   "cell_type": "code",
   "execution_count": 4,
   "metadata": {},
   "outputs": [
    {
     "data": {
      "text/plain": [
       "['llama3.2:3b',\n",
       " 'llama3.2:1b',\n",
       " 'PetrosStav/gemma3-tools:4b',\n",
       " 'gemma3:4b',\n",
       " 'gemma3:1b',\n",
       " 'gemma2:2b',\n",
       " 'gemma2:latest',\n",
       " 'llama3:latest',\n",
       " 'llama3:8b']"
      ]
     },
     "execution_count": 4,
     "metadata": {},
     "output_type": "execute_result"
    }
   ],
   "source": [
    "model_list = list()\n",
    "\n",
    "for model in ollama.list().models:\n",
    "    model_list.append(model.model)\n",
    "\n",
    "model_list"
   ]
  },
  {
   "cell_type": "code",
   "execution_count": 5,
   "metadata": {},
   "outputs": [],
   "source": [
    "def fetch_stock_data(ticker:str) -> pd.DataFrame:\n",
    "    \"\"\"\n",
    "    Fetch the stock data of a ticker from yahoo finance.\n",
    "\n",
    "    Args:\n",
    "        ticker: A stock ticker string symbol\n",
    "    \n",
    "    Returns:\n",
    "        Stock Data\n",
    "    \"\"\"\n",
    "    stock = yf.download(ticker, period=\"18mo\")\n",
    "    stock.columns = stock.columns.droplevel(1) # Make the multi-index columns to a single level column; compatible with plotly\n",
    "    return stock"
   ]
  },
  {
   "cell_type": "code",
   "execution_count": 6,
   "metadata": {},
   "outputs": [],
   "source": [
    "user_query = 'The company that makes CUDA supported GPU'\n",
    "# user_query = 'The biggest company in the US'\n",
    "# user_query = 'The biggest SNS company'"
   ]
  },
  {
   "cell_type": "code",
   "execution_count": 7,
   "metadata": {},
   "outputs": [],
   "source": [
    "response = ollama.chat(\n",
    "    model = 'gemma3:4b', \n",
    "    messages = [\n",
    "        {\"role\": \"user\",\n",
    "         \"content\": f\"What is the company name and finance ticker for this company? {user_query}\"}\n",
    "    ],\n",
    "    format = TickerResponse.model_json_schema()\n",
    ")"
   ]
  },
  {
   "cell_type": "code",
   "execution_count": 8,
   "metadata": {},
   "outputs": [],
   "source": [
    "llm_query = TickerResponse.model_validate_json(response.message.content)\n",
    "name = llm_query.name\n",
    "ticker = llm_query.ticker"
   ]
  },
  {
   "cell_type": "code",
   "execution_count": 19,
   "metadata": {},
   "outputs": [
    {
     "data": {
      "text/plain": [
       "'NVIDIA Corporation'"
      ]
     },
     "execution_count": 19,
     "metadata": {},
     "output_type": "execute_result"
    }
   ],
   "source": [
    "name_from_ticker = yf.Ticker(ticker).info['longName']\n",
    "name_from_ticker"
   ]
  },
  {
   "cell_type": "code",
   "execution_count": 23,
   "metadata": {},
   "outputs": [],
   "source": [
    "# for testing\n",
    "name_from_ticker = 'APPLE'"
   ]
  },
  {
   "cell_type": "code",
   "execution_count": 24,
   "metadata": {},
   "outputs": [],
   "source": [
    "evaluation = ollama.chat(\n",
    "    model = 'gemma3:4b',\n",
    "    messages = [\n",
    "        {\"role\": \"user\",\n",
    "         \"content\": f\"Do these two mean the same company? {name} and {name_from_ticker}\"}\n",
    "    ],\n",
    "    format = TickerEvaluation.model_json_schema()\n",
    ")"
   ]
  },
  {
   "cell_type": "code",
   "execution_count": 25,
   "metadata": {},
   "outputs": [
    {
     "data": {
      "text/plain": [
       "False"
      ]
     },
     "execution_count": 25,
     "metadata": {},
     "output_type": "execute_result"
    }
   ],
   "source": [
    "llm_evaluation = TickerEvaluation.model_validate_json(evaluation.message.content)\n",
    "llm_evaluation.they_are_same"
   ]
  },
  {
   "cell_type": "code",
   "execution_count": 21,
   "metadata": {},
   "outputs": [
    {
     "name": "stderr",
     "output_type": "stream",
     "text": [
      "[*********************100%***********************]  1 of 1 completed\n"
     ]
    }
   ],
   "source": [
    "data = fetch_stock_data(ticker)"
   ]
  },
  {
   "cell_type": "code",
   "execution_count": null,
   "metadata": {},
   "outputs": [],
   "source": []
  },
  {
   "cell_type": "code",
   "execution_count": 22,
   "metadata": {},
   "outputs": [
    {
     "data": {
      "text/html": [
       "<div>\n",
       "<style scoped>\n",
       "    .dataframe tbody tr th:only-of-type {\n",
       "        vertical-align: middle;\n",
       "    }\n",
       "\n",
       "    .dataframe tbody tr th {\n",
       "        vertical-align: top;\n",
       "    }\n",
       "\n",
       "    .dataframe thead th {\n",
       "        text-align: right;\n",
       "    }\n",
       "</style>\n",
       "<table border=\"1\" class=\"dataframe\">\n",
       "  <thead>\n",
       "    <tr style=\"text-align: right;\">\n",
       "      <th>Price</th>\n",
       "      <th>Close</th>\n",
       "      <th>High</th>\n",
       "      <th>Low</th>\n",
       "      <th>Open</th>\n",
       "      <th>Volume</th>\n",
       "    </tr>\n",
       "    <tr>\n",
       "      <th>Date</th>\n",
       "      <th></th>\n",
       "      <th></th>\n",
       "      <th></th>\n",
       "      <th></th>\n",
       "      <th></th>\n",
       "    </tr>\n",
       "  </thead>\n",
       "  <tbody>\n",
       "    <tr>\n",
       "      <th>2023-09-20</th>\n",
       "      <td>42.219433</td>\n",
       "      <td>43.882664</td>\n",
       "      <td>42.203441</td>\n",
       "      <td>43.579802</td>\n",
       "      <td>367108000</td>\n",
       "    </tr>\n",
       "    <tr>\n",
       "      <th>2023-09-21</th>\n",
       "      <td>40.997997</td>\n",
       "      <td>42.080496</td>\n",
       "      <td>40.961016</td>\n",
       "      <td>41.563737</td>\n",
       "      <td>450736000</td>\n",
       "    </tr>\n",
       "    <tr>\n",
       "      <th>2023-09-22</th>\n",
       "      <td>41.590721</td>\n",
       "      <td>42.095488</td>\n",
       "      <td>41.211895</td>\n",
       "      <td>41.552737</td>\n",
       "      <td>479236000</td>\n",
       "    </tr>\n",
       "    <tr>\n",
       "      <th>2023-09-25</th>\n",
       "      <td>42.202442</td>\n",
       "      <td>42.516296</td>\n",
       "      <td>41.157924</td>\n",
       "      <td>41.571734</td>\n",
       "      <td>419091000</td>\n",
       "    </tr>\n",
       "    <tr>\n",
       "      <th>2023-09-26</th>\n",
       "      <td>41.891582</td>\n",
       "      <td>42.800162</td>\n",
       "      <td>41.635701</td>\n",
       "      <td>41.981541</td>\n",
       "      <td>402282000</td>\n",
       "    </tr>\n",
       "    <tr>\n",
       "      <th>...</th>\n",
       "      <td>...</td>\n",
       "      <td>...</td>\n",
       "      <td>...</td>\n",
       "      <td>...</td>\n",
       "      <td>...</td>\n",
       "    </tr>\n",
       "    <tr>\n",
       "      <th>2025-03-13</th>\n",
       "      <td>115.580002</td>\n",
       "      <td>117.760002</td>\n",
       "      <td>113.790001</td>\n",
       "      <td>117.029999</td>\n",
       "      <td>299033100</td>\n",
       "    </tr>\n",
       "    <tr>\n",
       "      <th>2025-03-14</th>\n",
       "      <td>121.669998</td>\n",
       "      <td>121.879997</td>\n",
       "      <td>118.150002</td>\n",
       "      <td>118.610001</td>\n",
       "      <td>277593500</td>\n",
       "    </tr>\n",
       "    <tr>\n",
       "      <th>2025-03-17</th>\n",
       "      <td>119.529999</td>\n",
       "      <td>122.889999</td>\n",
       "      <td>118.029999</td>\n",
       "      <td>122.739998</td>\n",
       "      <td>255501500</td>\n",
       "    </tr>\n",
       "    <tr>\n",
       "      <th>2025-03-18</th>\n",
       "      <td>115.430000</td>\n",
       "      <td>119.019997</td>\n",
       "      <td>114.540001</td>\n",
       "      <td>118.000000</td>\n",
       "      <td>299686900</td>\n",
       "    </tr>\n",
       "    <tr>\n",
       "      <th>2025-03-19</th>\n",
       "      <td>117.519997</td>\n",
       "      <td>120.445000</td>\n",
       "      <td>115.680000</td>\n",
       "      <td>117.305000</td>\n",
       "      <td>270676243</td>\n",
       "    </tr>\n",
       "  </tbody>\n",
       "</table>\n",
       "<p>375 rows × 5 columns</p>\n",
       "</div>"
      ],
      "text/plain": [
       "Price            Close        High         Low        Open     Volume\n",
       "Date                                                                 \n",
       "2023-09-20   42.219433   43.882664   42.203441   43.579802  367108000\n",
       "2023-09-21   40.997997   42.080496   40.961016   41.563737  450736000\n",
       "2023-09-22   41.590721   42.095488   41.211895   41.552737  479236000\n",
       "2023-09-25   42.202442   42.516296   41.157924   41.571734  419091000\n",
       "2023-09-26   41.891582   42.800162   41.635701   41.981541  402282000\n",
       "...                ...         ...         ...         ...        ...\n",
       "2025-03-13  115.580002  117.760002  113.790001  117.029999  299033100\n",
       "2025-03-14  121.669998  121.879997  118.150002  118.610001  277593500\n",
       "2025-03-17  119.529999  122.889999  118.029999  122.739998  255501500\n",
       "2025-03-18  115.430000  119.019997  114.540001  118.000000  299686900\n",
       "2025-03-19  117.519997  120.445000  115.680000  117.305000  270676243\n",
       "\n",
       "[375 rows x 5 columns]"
      ]
     },
     "execution_count": 22,
     "metadata": {},
     "output_type": "execute_result"
    }
   ],
   "source": [
    "data"
   ]
  },
  {
   "cell_type": "code",
   "execution_count": 23,
   "metadata": {},
   "outputs": [],
   "source": [
    "def calculate_SMA(stock:pd.DataFrame, window:int) -> pd.DataFrame:\n",
    "    \"\"\"\n",
    "    Calculate the SMA (Top Hat Filter) with a given window size of the past 6 months.\n",
    "    \"\"\"\n",
    "    # Get the six_month_ago date: The first date shown on the graph\n",
    "    six_month_ago = stock.index[-1] - pd.DateOffset(months = 6)\n",
    "    six_month_ago = stock.index[stock.index > six_month_ago].min().strftime(\"%Y-%m-%d\")\n",
    "\n",
    "    # Fetch the right amount of data for SMA calculation\n",
    "    six_month_ago_index = np.where(stock.index == six_month_ago)[0][0]\n",
    "    stock_for_SMA = stock.iloc[six_month_ago_index-window:].copy()\n",
    "\n",
    "    SMA = stock_for_SMA[\"Close\"].rolling(window=window).mean()\n",
    "    stock[f'SMA {window}'] = SMA\n",
    "    return stock"
   ]
  },
  {
   "cell_type": "code",
   "execution_count": 24,
   "metadata": {},
   "outputs": [
    {
     "name": "stderr",
     "output_type": "stream",
     "text": [
      "[*********************100%***********************]  1 of 1 completed\n"
     ]
    }
   ],
   "source": [
    "\n",
    "stock = fetch_stock_data(ticker)\n",
    "stock = calculate_SMA(stock, 50)\n",
    "stock = calculate_SMA(stock, 200)"
   ]
  },
  {
   "cell_type": "code",
   "execution_count": 25,
   "metadata": {},
   "outputs": [
    {
     "data": {
      "application/vnd.plotly.v1+json": {
       "config": {
        "plotlyServerURL": "https://plot.ly"
       },
       "data": [
        {
         "hovertemplate": "variable=Close<br>Date=%{x}<br>value=%{y}<extra></extra>",
         "legendgroup": "Close",
         "line": {
          "color": "#636efa",
          "dash": "solid"
         },
         "marker": {
          "symbol": "circle"
         },
         "mode": "lines",
         "name": "Close",
         "orientation": "v",
         "showlegend": true,
         "type": "scatter",
         "x": [
          "2024-09-23T00:00:00.000000000",
          "2024-09-24T00:00:00.000000000",
          "2024-09-25T00:00:00.000000000",
          "2024-09-26T00:00:00.000000000",
          "2024-09-27T00:00:00.000000000",
          "2024-09-30T00:00:00.000000000",
          "2024-10-01T00:00:00.000000000",
          "2024-10-02T00:00:00.000000000",
          "2024-10-03T00:00:00.000000000",
          "2024-10-04T00:00:00.000000000",
          "2024-10-07T00:00:00.000000000",
          "2024-10-08T00:00:00.000000000",
          "2024-10-09T00:00:00.000000000",
          "2024-10-10T00:00:00.000000000",
          "2024-10-11T00:00:00.000000000",
          "2024-10-14T00:00:00.000000000",
          "2024-10-15T00:00:00.000000000",
          "2024-10-16T00:00:00.000000000",
          "2024-10-17T00:00:00.000000000",
          "2024-10-18T00:00:00.000000000",
          "2024-10-21T00:00:00.000000000",
          "2024-10-22T00:00:00.000000000",
          "2024-10-23T00:00:00.000000000",
          "2024-10-24T00:00:00.000000000",
          "2024-10-25T00:00:00.000000000",
          "2024-10-28T00:00:00.000000000",
          "2024-10-29T00:00:00.000000000",
          "2024-10-30T00:00:00.000000000",
          "2024-10-31T00:00:00.000000000",
          "2024-11-01T00:00:00.000000000",
          "2024-11-04T00:00:00.000000000",
          "2024-11-05T00:00:00.000000000",
          "2024-11-06T00:00:00.000000000",
          "2024-11-07T00:00:00.000000000",
          "2024-11-08T00:00:00.000000000",
          "2024-11-11T00:00:00.000000000",
          "2024-11-12T00:00:00.000000000",
          "2024-11-13T00:00:00.000000000",
          "2024-11-14T00:00:00.000000000",
          "2024-11-15T00:00:00.000000000",
          "2024-11-18T00:00:00.000000000",
          "2024-11-19T00:00:00.000000000",
          "2024-11-20T00:00:00.000000000",
          "2024-11-21T00:00:00.000000000",
          "2024-11-22T00:00:00.000000000",
          "2024-11-25T00:00:00.000000000",
          "2024-11-26T00:00:00.000000000",
          "2024-11-27T00:00:00.000000000",
          "2024-11-29T00:00:00.000000000",
          "2024-12-02T00:00:00.000000000",
          "2024-12-03T00:00:00.000000000",
          "2024-12-04T00:00:00.000000000",
          "2024-12-05T00:00:00.000000000",
          "2024-12-06T00:00:00.000000000",
          "2024-12-09T00:00:00.000000000",
          "2024-12-10T00:00:00.000000000",
          "2024-12-11T00:00:00.000000000",
          "2024-12-12T00:00:00.000000000",
          "2024-12-13T00:00:00.000000000",
          "2024-12-16T00:00:00.000000000",
          "2024-12-17T00:00:00.000000000",
          "2024-12-18T00:00:00.000000000",
          "2024-12-19T00:00:00.000000000",
          "2024-12-20T00:00:00.000000000",
          "2024-12-23T00:00:00.000000000",
          "2024-12-24T00:00:00.000000000",
          "2024-12-26T00:00:00.000000000",
          "2024-12-27T00:00:00.000000000",
          "2024-12-30T00:00:00.000000000",
          "2024-12-31T00:00:00.000000000",
          "2025-01-02T00:00:00.000000000",
          "2025-01-03T00:00:00.000000000",
          "2025-01-06T00:00:00.000000000",
          "2025-01-07T00:00:00.000000000",
          "2025-01-08T00:00:00.000000000",
          "2025-01-10T00:00:00.000000000",
          "2025-01-13T00:00:00.000000000",
          "2025-01-14T00:00:00.000000000",
          "2025-01-15T00:00:00.000000000",
          "2025-01-16T00:00:00.000000000",
          "2025-01-17T00:00:00.000000000",
          "2025-01-21T00:00:00.000000000",
          "2025-01-22T00:00:00.000000000",
          "2025-01-23T00:00:00.000000000",
          "2025-01-24T00:00:00.000000000",
          "2025-01-27T00:00:00.000000000",
          "2025-01-28T00:00:00.000000000",
          "2025-01-29T00:00:00.000000000",
          "2025-01-30T00:00:00.000000000",
          "2025-01-31T00:00:00.000000000",
          "2025-02-03T00:00:00.000000000",
          "2025-02-04T00:00:00.000000000",
          "2025-02-05T00:00:00.000000000",
          "2025-02-06T00:00:00.000000000",
          "2025-02-07T00:00:00.000000000",
          "2025-02-10T00:00:00.000000000",
          "2025-02-11T00:00:00.000000000",
          "2025-02-12T00:00:00.000000000",
          "2025-02-13T00:00:00.000000000",
          "2025-02-14T00:00:00.000000000",
          "2025-02-18T00:00:00.000000000",
          "2025-02-19T00:00:00.000000000",
          "2025-02-20T00:00:00.000000000",
          "2025-02-21T00:00:00.000000000",
          "2025-02-24T00:00:00.000000000",
          "2025-02-25T00:00:00.000000000",
          "2025-02-26T00:00:00.000000000",
          "2025-02-27T00:00:00.000000000",
          "2025-02-28T00:00:00.000000000",
          "2025-03-03T00:00:00.000000000",
          "2025-03-04T00:00:00.000000000",
          "2025-03-05T00:00:00.000000000",
          "2025-03-06T00:00:00.000000000",
          "2025-03-07T00:00:00.000000000",
          "2025-03-10T00:00:00.000000000",
          "2025-03-11T00:00:00.000000000",
          "2025-03-12T00:00:00.000000000",
          "2025-03-13T00:00:00.000000000",
          "2025-03-14T00:00:00.000000000",
          "2025-03-17T00:00:00.000000000",
          "2025-03-18T00:00:00.000000000",
          "2025-03-19T00:00:00.000000000"
         ],
         "xaxis": "x",
         "y": {
          "bdata": "AAAAgHEPXUAAAACAbzZeQAAAAGBe315AAAAAgEgBX0AAAADAWVheQAAAAODoWl5AAAAAoMs+XUAAAAAgLbVdQAAAAKAitV5AAAAAAJg5X0AAAADgw+xfQAAAAMDLm2BAAAAAAB6UYEAAAADgOdlgQAAAAADo2GBAAAAAoIdBYUAAAADghXJgQAAAAGBX9mBAAAAAIA4dYUAAAAAgSj9hQAAAAAD79WFAAAAAICTyYUAAAACgM3FhQAAAAMBljGFAAAAAII2wYUAAAACg6o9hQAAAAOBFp2FAAAAAoClqYUAAAAAAo5dgQAAAAGAa7GBAAAAAYOYAYUAAAABgZnxhQAAAACDFMmJAAAAA4GSbYkAAAABgZnNiQAAAAICSJ2JAAAAAIISIYkAAAAAA40diQAAAAGCQV2JAAAAAAKG+YUAAAAAAFIRhQAAAACCQX2JAAAAAoLo7YkAAAABgr1RiQAAAAECrvWFAAAAAoPD/YEAAAABAvBxhQAAAAOAu6mBAAAAA4ElHYUAAAABAclNhQAAAACCZh2FAAAAAoLsjYkAAAABAfiFiQAAAACCpzWFAAAAA4IJZYUAAAADA1+FgQAAAAICCaWFAAAAAwHkqYUAAAADgmsdgQAAAAICcf2BAAAAAoBhMYEAAAACgvRxgQAAAAABgVWBAAAAA4ADWYEAAAABgB3VhQAAAAKCghmFAAAAAIFl9YUAAAACg6h9hQAAAAIBGL2FAAAAAgOLIYEAAAABAg0lhQAAAAGCdDmJAAAAA4FGtYkAAAABAEYRhQAAAAKAbg2FAAAAAYLj8YEAAAADA96ZgQAAAAKDud2BAAAAAgEcHYUAAAADg2LFgQAAAAKBQNmFAAAAAQCWaYUAAAADAzmFiQAAAAGCbZmJAAAAAgGvTYUAAAADALppdQAAAAABNH2BAAAAAYBLsXkAAAADA3ShfQAAAAADGA15AAAAAwI0pXUAAAADg5qhdQAAAAKBiNF9AAAAAgGEVYEAAAABgfzpgQAAAAODYsWBAAAAAoDWZYEAAAAAgGGRgQAAAAMDh6GBAAAAAoMpaYUAAAADAY2xhQAAAAEDzZmFAAAAAoBuDYUAAAABAXc1gQAAAAKCTSGBAAAAAIJOnX0AAAADgkmhgQAAAAKDkCF5AAAAAACU6X0AAAAAgK4NcQAAAAGCt/lxAAAAAgIJSXUAAAABA1KNbQAAAAEB/K1xAAAAAIBe+WkAAAAAAADBbQAAAACBc71xAAAAAwB7lXEAAAABA4WpeQAAAAIDr4V1AAAAAIIXbXEAAAACgR2FdQA==",
          "dtype": "f8"
         },
         "yaxis": "y"
        },
        {
         "hovertemplate": "variable=SMA 200<br>Date=%{x}<br>value=%{y}<extra></extra>",
         "legendgroup": "SMA 200",
         "line": {
          "color": "#EF553B",
          "dash": "solid"
         },
         "marker": {
          "symbol": "circle"
         },
         "mode": "lines",
         "name": "SMA 200",
         "orientation": "v",
         "showlegend": true,
         "type": "scatter",
         "x": [
          "2024-09-23T00:00:00.000000000",
          "2024-09-24T00:00:00.000000000",
          "2024-09-25T00:00:00.000000000",
          "2024-09-26T00:00:00.000000000",
          "2024-09-27T00:00:00.000000000",
          "2024-09-30T00:00:00.000000000",
          "2024-10-01T00:00:00.000000000",
          "2024-10-02T00:00:00.000000000",
          "2024-10-03T00:00:00.000000000",
          "2024-10-04T00:00:00.000000000",
          "2024-10-07T00:00:00.000000000",
          "2024-10-08T00:00:00.000000000",
          "2024-10-09T00:00:00.000000000",
          "2024-10-10T00:00:00.000000000",
          "2024-10-11T00:00:00.000000000",
          "2024-10-14T00:00:00.000000000",
          "2024-10-15T00:00:00.000000000",
          "2024-10-16T00:00:00.000000000",
          "2024-10-17T00:00:00.000000000",
          "2024-10-18T00:00:00.000000000",
          "2024-10-21T00:00:00.000000000",
          "2024-10-22T00:00:00.000000000",
          "2024-10-23T00:00:00.000000000",
          "2024-10-24T00:00:00.000000000",
          "2024-10-25T00:00:00.000000000",
          "2024-10-28T00:00:00.000000000",
          "2024-10-29T00:00:00.000000000",
          "2024-10-30T00:00:00.000000000",
          "2024-10-31T00:00:00.000000000",
          "2024-11-01T00:00:00.000000000",
          "2024-11-04T00:00:00.000000000",
          "2024-11-05T00:00:00.000000000",
          "2024-11-06T00:00:00.000000000",
          "2024-11-07T00:00:00.000000000",
          "2024-11-08T00:00:00.000000000",
          "2024-11-11T00:00:00.000000000",
          "2024-11-12T00:00:00.000000000",
          "2024-11-13T00:00:00.000000000",
          "2024-11-14T00:00:00.000000000",
          "2024-11-15T00:00:00.000000000",
          "2024-11-18T00:00:00.000000000",
          "2024-11-19T00:00:00.000000000",
          "2024-11-20T00:00:00.000000000",
          "2024-11-21T00:00:00.000000000",
          "2024-11-22T00:00:00.000000000",
          "2024-11-25T00:00:00.000000000",
          "2024-11-26T00:00:00.000000000",
          "2024-11-27T00:00:00.000000000",
          "2024-11-29T00:00:00.000000000",
          "2024-12-02T00:00:00.000000000",
          "2024-12-03T00:00:00.000000000",
          "2024-12-04T00:00:00.000000000",
          "2024-12-05T00:00:00.000000000",
          "2024-12-06T00:00:00.000000000",
          "2024-12-09T00:00:00.000000000",
          "2024-12-10T00:00:00.000000000",
          "2024-12-11T00:00:00.000000000",
          "2024-12-12T00:00:00.000000000",
          "2024-12-13T00:00:00.000000000",
          "2024-12-16T00:00:00.000000000",
          "2024-12-17T00:00:00.000000000",
          "2024-12-18T00:00:00.000000000",
          "2024-12-19T00:00:00.000000000",
          "2024-12-20T00:00:00.000000000",
          "2024-12-23T00:00:00.000000000",
          "2024-12-24T00:00:00.000000000",
          "2024-12-26T00:00:00.000000000",
          "2024-12-27T00:00:00.000000000",
          "2024-12-30T00:00:00.000000000",
          "2024-12-31T00:00:00.000000000",
          "2025-01-02T00:00:00.000000000",
          "2025-01-03T00:00:00.000000000",
          "2025-01-06T00:00:00.000000000",
          "2025-01-07T00:00:00.000000000",
          "2025-01-08T00:00:00.000000000",
          "2025-01-10T00:00:00.000000000",
          "2025-01-13T00:00:00.000000000",
          "2025-01-14T00:00:00.000000000",
          "2025-01-15T00:00:00.000000000",
          "2025-01-16T00:00:00.000000000",
          "2025-01-17T00:00:00.000000000",
          "2025-01-21T00:00:00.000000000",
          "2025-01-22T00:00:00.000000000",
          "2025-01-23T00:00:00.000000000",
          "2025-01-24T00:00:00.000000000",
          "2025-01-27T00:00:00.000000000",
          "2025-01-28T00:00:00.000000000",
          "2025-01-29T00:00:00.000000000",
          "2025-01-30T00:00:00.000000000",
          "2025-01-31T00:00:00.000000000",
          "2025-02-03T00:00:00.000000000",
          "2025-02-04T00:00:00.000000000",
          "2025-02-05T00:00:00.000000000",
          "2025-02-06T00:00:00.000000000",
          "2025-02-07T00:00:00.000000000",
          "2025-02-10T00:00:00.000000000",
          "2025-02-11T00:00:00.000000000",
          "2025-02-12T00:00:00.000000000",
          "2025-02-13T00:00:00.000000000",
          "2025-02-14T00:00:00.000000000",
          "2025-02-18T00:00:00.000000000",
          "2025-02-19T00:00:00.000000000",
          "2025-02-20T00:00:00.000000000",
          "2025-02-21T00:00:00.000000000",
          "2025-02-24T00:00:00.000000000",
          "2025-02-25T00:00:00.000000000",
          "2025-02-26T00:00:00.000000000",
          "2025-02-27T00:00:00.000000000",
          "2025-02-28T00:00:00.000000000",
          "2025-03-03T00:00:00.000000000",
          "2025-03-04T00:00:00.000000000",
          "2025-03-05T00:00:00.000000000",
          "2025-03-06T00:00:00.000000000",
          "2025-03-07T00:00:00.000000000",
          "2025-03-10T00:00:00.000000000",
          "2025-03-11T00:00:00.000000000",
          "2025-03-12T00:00:00.000000000",
          "2025-03-13T00:00:00.000000000",
          "2025-03-14T00:00:00.000000000",
          "2025-03-17T00:00:00.000000000",
          "2025-03-18T00:00:00.000000000",
          "2025-03-19T00:00:00.000000000"
         ],
         "xaxis": "x",
         "y": {
          "bdata": "SOF6lBUyV0CamZlzM0pXQBSuRw3QYldAMzMzi017V0CF61HIOpNXQNejcPPWqldAKVyPKOTAV0BmZmZwc9dXQEjheiAe71dA7FG4KBEHWEB7FK5DECBYQOxRuBYxO1hApHA9RvZVWEBSuB57eXFYQD0K1xnXjFhAmpmZQTWpWEDD9SjgeMNYQDMzM/MN31hAKVyPAnX7WECPwvXCZBhZQKRwPRIFN1lAZmZmjkFVWUC4HoWDMXFZQK5H4XQejVlAH4Xr3QSpWUAK16MUccRZQIXrUUIi4FlA9ihcE676WUAzMzPjORNaQDMzM59HLFpA9ihcX8dEWkD2KFzvdV5aQIXrUW7leVpAj8L11OaVWkAUrkf3bLFaQD0K1/dgzFpAexSut9fnWkCF61G2jwJbQM3MzPTVHVtApHA92hk3W0AK16NMx05bQAAAAOCiZ1tAPQrXh32AW0D2KFxz/phbQKRwPUYisFtArkfhUpTEW0AAAACsRtlbQOxRuG6B7VtAuB6FbxkCXECPwvVENhdcQAAAAEzcLFxAmpmZ4RRFXEAzMzPf6V1cQEjhehBeclxA16NwEZKFXED2KFwzfZdcQI/C9ajjqlxAzczMwP29XECF61EUpM9cQGZmZsKO31xAj8L1VAPuXEC4HoXPwvtcQOxRuDYzCV1A9ihc36cWXUBcj8KlWCddQFyPwh3GOF1AKVyPFiVIXUAK16PQ6FZdQIXrUfTEZl1ACtejvKN1XUCkcD0ymYVdQOxRuAI6l11AzczMWCGqXUCkcD2quLldQJqZmc1jyF1AUrgehXzVXUAK16OcgeJdQMP1KIzL711AFK5HxXv+XUCuR+G2UAxeQBSuR2HDG15A9ihck10sXkCuR+Fq8T9eQHE9ClPlUl5A7FG4FqhkXkDsUbhCPm9eQOF6FEKsfF5AmpmZAUSHXkCkcD2S8JJeQB+F6+nYnV5A9ihcIzanXkDsUbgqS7JeQArXo1Qmv15AZmZmkvLPXkCF61EcDuBeQI/C9Uht8F5APQrXQ24BX0DsUbhG9RBfQK5H4VIuIF9AmpmZLYkwX0BI4XoMgEFfQM3MzDx8U19ACtejLN1kX0DhehR2eXNfQPYoXGOvf19AuB6FNzyLX0AUrkeRUZhfQJqZmZVfol9AAAAAtJetX0CamZmVK7VfQHsUri8PvV9AXI/C+VHEX0A9Ctevg8lfQPYoXAP9z19AZmZmLubTX0CuR+GGL9hfQOxRuDLZ3l9AMzMzF6HiX0AK16M4gedfQB+F62lR6V9AzczMEIbpX0CkcD0eyOtfQA==",
          "dtype": "f8"
         },
         "yaxis": "y"
        },
        {
         "hovertemplate": "variable=SMA 50<br>Date=%{x}<br>value=%{y}<extra></extra>",
         "legendgroup": "SMA 50",
         "line": {
          "color": "#00cc96",
          "dash": "solid"
         },
         "marker": {
          "symbol": "circle"
         },
         "mode": "lines",
         "name": "SMA 50",
         "orientation": "v",
         "showlegend": true,
         "type": "scatter",
         "x": [
          "2024-09-23T00:00:00.000000000",
          "2024-09-24T00:00:00.000000000",
          "2024-09-25T00:00:00.000000000",
          "2024-09-26T00:00:00.000000000",
          "2024-09-27T00:00:00.000000000",
          "2024-09-30T00:00:00.000000000",
          "2024-10-01T00:00:00.000000000",
          "2024-10-02T00:00:00.000000000",
          "2024-10-03T00:00:00.000000000",
          "2024-10-04T00:00:00.000000000",
          "2024-10-07T00:00:00.000000000",
          "2024-10-08T00:00:00.000000000",
          "2024-10-09T00:00:00.000000000",
          "2024-10-10T00:00:00.000000000",
          "2024-10-11T00:00:00.000000000",
          "2024-10-14T00:00:00.000000000",
          "2024-10-15T00:00:00.000000000",
          "2024-10-16T00:00:00.000000000",
          "2024-10-17T00:00:00.000000000",
          "2024-10-18T00:00:00.000000000",
          "2024-10-21T00:00:00.000000000",
          "2024-10-22T00:00:00.000000000",
          "2024-10-23T00:00:00.000000000",
          "2024-10-24T00:00:00.000000000",
          "2024-10-25T00:00:00.000000000",
          "2024-10-28T00:00:00.000000000",
          "2024-10-29T00:00:00.000000000",
          "2024-10-30T00:00:00.000000000",
          "2024-10-31T00:00:00.000000000",
          "2024-11-01T00:00:00.000000000",
          "2024-11-04T00:00:00.000000000",
          "2024-11-05T00:00:00.000000000",
          "2024-11-06T00:00:00.000000000",
          "2024-11-07T00:00:00.000000000",
          "2024-11-08T00:00:00.000000000",
          "2024-11-11T00:00:00.000000000",
          "2024-11-12T00:00:00.000000000",
          "2024-11-13T00:00:00.000000000",
          "2024-11-14T00:00:00.000000000",
          "2024-11-15T00:00:00.000000000",
          "2024-11-18T00:00:00.000000000",
          "2024-11-19T00:00:00.000000000",
          "2024-11-20T00:00:00.000000000",
          "2024-11-21T00:00:00.000000000",
          "2024-11-22T00:00:00.000000000",
          "2024-11-25T00:00:00.000000000",
          "2024-11-26T00:00:00.000000000",
          "2024-11-27T00:00:00.000000000",
          "2024-11-29T00:00:00.000000000",
          "2024-12-02T00:00:00.000000000",
          "2024-12-03T00:00:00.000000000",
          "2024-12-04T00:00:00.000000000",
          "2024-12-05T00:00:00.000000000",
          "2024-12-06T00:00:00.000000000",
          "2024-12-09T00:00:00.000000000",
          "2024-12-10T00:00:00.000000000",
          "2024-12-11T00:00:00.000000000",
          "2024-12-12T00:00:00.000000000",
          "2024-12-13T00:00:00.000000000",
          "2024-12-16T00:00:00.000000000",
          "2024-12-17T00:00:00.000000000",
          "2024-12-18T00:00:00.000000000",
          "2024-12-19T00:00:00.000000000",
          "2024-12-20T00:00:00.000000000",
          "2024-12-23T00:00:00.000000000",
          "2024-12-24T00:00:00.000000000",
          "2024-12-26T00:00:00.000000000",
          "2024-12-27T00:00:00.000000000",
          "2024-12-30T00:00:00.000000000",
          "2024-12-31T00:00:00.000000000",
          "2025-01-02T00:00:00.000000000",
          "2025-01-03T00:00:00.000000000",
          "2025-01-06T00:00:00.000000000",
          "2025-01-07T00:00:00.000000000",
          "2025-01-08T00:00:00.000000000",
          "2025-01-10T00:00:00.000000000",
          "2025-01-13T00:00:00.000000000",
          "2025-01-14T00:00:00.000000000",
          "2025-01-15T00:00:00.000000000",
          "2025-01-16T00:00:00.000000000",
          "2025-01-17T00:00:00.000000000",
          "2025-01-21T00:00:00.000000000",
          "2025-01-22T00:00:00.000000000",
          "2025-01-23T00:00:00.000000000",
          "2025-01-24T00:00:00.000000000",
          "2025-01-27T00:00:00.000000000",
          "2025-01-28T00:00:00.000000000",
          "2025-01-29T00:00:00.000000000",
          "2025-01-30T00:00:00.000000000",
          "2025-01-31T00:00:00.000000000",
          "2025-02-03T00:00:00.000000000",
          "2025-02-04T00:00:00.000000000",
          "2025-02-05T00:00:00.000000000",
          "2025-02-06T00:00:00.000000000",
          "2025-02-07T00:00:00.000000000",
          "2025-02-10T00:00:00.000000000",
          "2025-02-11T00:00:00.000000000",
          "2025-02-12T00:00:00.000000000",
          "2025-02-13T00:00:00.000000000",
          "2025-02-14T00:00:00.000000000",
          "2025-02-18T00:00:00.000000000",
          "2025-02-19T00:00:00.000000000",
          "2025-02-20T00:00:00.000000000",
          "2025-02-21T00:00:00.000000000",
          "2025-02-24T00:00:00.000000000",
          "2025-02-25T00:00:00.000000000",
          "2025-02-26T00:00:00.000000000",
          "2025-02-27T00:00:00.000000000",
          "2025-02-28T00:00:00.000000000",
          "2025-03-03T00:00:00.000000000",
          "2025-03-04T00:00:00.000000000",
          "2025-03-05T00:00:00.000000000",
          "2025-03-06T00:00:00.000000000",
          "2025-03-07T00:00:00.000000000",
          "2025-03-10T00:00:00.000000000",
          "2025-03-11T00:00:00.000000000",
          "2025-03-12T00:00:00.000000000",
          "2025-03-13T00:00:00.000000000",
          "2025-03-14T00:00:00.000000000",
          "2025-03-17T00:00:00.000000000",
          "2025-03-18T00:00:00.000000000",
          "2025-03-19T00:00:00.000000000"
         ],
         "xaxis": "x",
         "y": {
          "bdata": "SOF6RKf5XECkcD26+u9cQIXrUYhY7FxAzczM/Bn0XEAzMzPzgvRcQJqZmTkE+VxAFK5HAanwXEDXo3Ad4+tcQJqZmenn9lxASOF6RBgHXUBI4Xp03hldQLgehQskNV1A7FG47ilaXUA9Ctez8XBdQOxRuL60kV1A4XoUriK5XUBxPQoXA+FdQBSuR3FMCV5ApHA9mvc5XkApXI8SQGReQOxRuF4fll5AFK5HgWDCXkCuR+HKXOBeQFK4HgX0/F5AmpmZid8UX0CF61FoSSlfQLgehduyN19AAAAAcC9HX0CkcD26pkxfQD0K11OWW19AH4XrgSZkX0A9CtejYHVfQEjhenSLi19A16Nw3VapX0BSuB4VzM9fQClcj7Lx8F9AFK5HaUISYEBcj8JF5itgQB+F65k2RWBAhetRWEVeYEA9CtcT1HNgQEjhepS7jGBAmpmZiUifYEA9CtdT5rBgQAAAAHiFv2BA7FG4PtXLYEDD9Shke9lgQIXrUWCK52BAZmZm5pT0YEAK16MAEANhQHsUrodrEmFAmpmZSfMhYUA9Ctcbvy9hQK5H4eKGO2FApHA9cqxGYUAK16PAZk9hQJqZmQGvXWFAhetReIVpYUDhehR20nBhQIXrUcBbdWFArkfhmhJ3YUBSuB4ViHRhQHsUrtdGc2FAexSuVzZzYUAK16OwVXZhQIXrUXi3d2FA16NwnQ19YUCuR+F64n1hQEjhesQ/fmFAj8L1iOF7YUAAAACAbnhhQI/C9UgAeWFA9ihcz1J/YUCPwvUoKH9hQNejcH0/fmFAhetR2E17YUAAAACQLXZhQHsUrldVcWFAPQrX85BzYUDsUbiuZnJhQK5H4Sp4c2FAcT0KdxB0YUDD9ShMAXVhQHE9Cgfzc2FA4XoU7r9wYUAfheuBlF9hQNejcF08U2FAUrgefcxEYUApXI/6pzZhQFyPwi2kKGFAw/UohJ0ZYUCkcD0aeQdhQArXo5gA+mBAH4XrCX/uYEAK16O4wOZgQK5H4eIw5WBAFK5HeY/iYECF61Hw4N9gQLgehZP93WBAcT0KLyPeYECF61Hgl91gQHE9Ck/R2WBAhetRYKbWYEC4HoUjhtFgQOxRuLYQzGBAexSuB6rGYEBI4XqEhsFgQGZmZl6GtmBAmpmZ4Y2wYEDNzMzcEqVgQArXo8jbm2BA7FG4xm2UYECkcD1Cj4dgQBSuR3l5eWBAmpmZCY5kYECuR+EabFBgQEjheuzyQGBA4XoU5j0zYEDXo3AFIClgQMP1KMSvH2BAFK5HMQ0RYEAzMzPDn/9fQA==",
          "dtype": "f8"
         },
         "yaxis": "y"
        }
       ],
       "layout": {
        "legend": {
         "title": {
          "text": "variable"
         },
         "tracegroupgap": 0
        },
        "template": {
         "data": {
          "bar": [
           {
            "error_x": {
             "color": "#2a3f5f"
            },
            "error_y": {
             "color": "#2a3f5f"
            },
            "marker": {
             "line": {
              "color": "#E5ECF6",
              "width": 0.5
             },
             "pattern": {
              "fillmode": "overlay",
              "size": 10,
              "solidity": 0.2
             }
            },
            "type": "bar"
           }
          ],
          "barpolar": [
           {
            "marker": {
             "line": {
              "color": "#E5ECF6",
              "width": 0.5
             },
             "pattern": {
              "fillmode": "overlay",
              "size": 10,
              "solidity": 0.2
             }
            },
            "type": "barpolar"
           }
          ],
          "carpet": [
           {
            "aaxis": {
             "endlinecolor": "#2a3f5f",
             "gridcolor": "white",
             "linecolor": "white",
             "minorgridcolor": "white",
             "startlinecolor": "#2a3f5f"
            },
            "baxis": {
             "endlinecolor": "#2a3f5f",
             "gridcolor": "white",
             "linecolor": "white",
             "minorgridcolor": "white",
             "startlinecolor": "#2a3f5f"
            },
            "type": "carpet"
           }
          ],
          "choropleth": [
           {
            "colorbar": {
             "outlinewidth": 0,
             "ticks": ""
            },
            "type": "choropleth"
           }
          ],
          "contour": [
           {
            "colorbar": {
             "outlinewidth": 0,
             "ticks": ""
            },
            "colorscale": [
             [
              0,
              "#0d0887"
             ],
             [
              0.1111111111111111,
              "#46039f"
             ],
             [
              0.2222222222222222,
              "#7201a8"
             ],
             [
              0.3333333333333333,
              "#9c179e"
             ],
             [
              0.4444444444444444,
              "#bd3786"
             ],
             [
              0.5555555555555556,
              "#d8576b"
             ],
             [
              0.6666666666666666,
              "#ed7953"
             ],
             [
              0.7777777777777778,
              "#fb9f3a"
             ],
             [
              0.8888888888888888,
              "#fdca26"
             ],
             [
              1,
              "#f0f921"
             ]
            ],
            "type": "contour"
           }
          ],
          "contourcarpet": [
           {
            "colorbar": {
             "outlinewidth": 0,
             "ticks": ""
            },
            "type": "contourcarpet"
           }
          ],
          "heatmap": [
           {
            "colorbar": {
             "outlinewidth": 0,
             "ticks": ""
            },
            "colorscale": [
             [
              0,
              "#0d0887"
             ],
             [
              0.1111111111111111,
              "#46039f"
             ],
             [
              0.2222222222222222,
              "#7201a8"
             ],
             [
              0.3333333333333333,
              "#9c179e"
             ],
             [
              0.4444444444444444,
              "#bd3786"
             ],
             [
              0.5555555555555556,
              "#d8576b"
             ],
             [
              0.6666666666666666,
              "#ed7953"
             ],
             [
              0.7777777777777778,
              "#fb9f3a"
             ],
             [
              0.8888888888888888,
              "#fdca26"
             ],
             [
              1,
              "#f0f921"
             ]
            ],
            "type": "heatmap"
           }
          ],
          "histogram": [
           {
            "marker": {
             "pattern": {
              "fillmode": "overlay",
              "size": 10,
              "solidity": 0.2
             }
            },
            "type": "histogram"
           }
          ],
          "histogram2d": [
           {
            "colorbar": {
             "outlinewidth": 0,
             "ticks": ""
            },
            "colorscale": [
             [
              0,
              "#0d0887"
             ],
             [
              0.1111111111111111,
              "#46039f"
             ],
             [
              0.2222222222222222,
              "#7201a8"
             ],
             [
              0.3333333333333333,
              "#9c179e"
             ],
             [
              0.4444444444444444,
              "#bd3786"
             ],
             [
              0.5555555555555556,
              "#d8576b"
             ],
             [
              0.6666666666666666,
              "#ed7953"
             ],
             [
              0.7777777777777778,
              "#fb9f3a"
             ],
             [
              0.8888888888888888,
              "#fdca26"
             ],
             [
              1,
              "#f0f921"
             ]
            ],
            "type": "histogram2d"
           }
          ],
          "histogram2dcontour": [
           {
            "colorbar": {
             "outlinewidth": 0,
             "ticks": ""
            },
            "colorscale": [
             [
              0,
              "#0d0887"
             ],
             [
              0.1111111111111111,
              "#46039f"
             ],
             [
              0.2222222222222222,
              "#7201a8"
             ],
             [
              0.3333333333333333,
              "#9c179e"
             ],
             [
              0.4444444444444444,
              "#bd3786"
             ],
             [
              0.5555555555555556,
              "#d8576b"
             ],
             [
              0.6666666666666666,
              "#ed7953"
             ],
             [
              0.7777777777777778,
              "#fb9f3a"
             ],
             [
              0.8888888888888888,
              "#fdca26"
             ],
             [
              1,
              "#f0f921"
             ]
            ],
            "type": "histogram2dcontour"
           }
          ],
          "mesh3d": [
           {
            "colorbar": {
             "outlinewidth": 0,
             "ticks": ""
            },
            "type": "mesh3d"
           }
          ],
          "parcoords": [
           {
            "line": {
             "colorbar": {
              "outlinewidth": 0,
              "ticks": ""
             }
            },
            "type": "parcoords"
           }
          ],
          "pie": [
           {
            "automargin": true,
            "type": "pie"
           }
          ],
          "scatter": [
           {
            "fillpattern": {
             "fillmode": "overlay",
             "size": 10,
             "solidity": 0.2
            },
            "type": "scatter"
           }
          ],
          "scatter3d": [
           {
            "line": {
             "colorbar": {
              "outlinewidth": 0,
              "ticks": ""
             }
            },
            "marker": {
             "colorbar": {
              "outlinewidth": 0,
              "ticks": ""
             }
            },
            "type": "scatter3d"
           }
          ],
          "scattercarpet": [
           {
            "marker": {
             "colorbar": {
              "outlinewidth": 0,
              "ticks": ""
             }
            },
            "type": "scattercarpet"
           }
          ],
          "scattergeo": [
           {
            "marker": {
             "colorbar": {
              "outlinewidth": 0,
              "ticks": ""
             }
            },
            "type": "scattergeo"
           }
          ],
          "scattergl": [
           {
            "marker": {
             "colorbar": {
              "outlinewidth": 0,
              "ticks": ""
             }
            },
            "type": "scattergl"
           }
          ],
          "scattermap": [
           {
            "marker": {
             "colorbar": {
              "outlinewidth": 0,
              "ticks": ""
             }
            },
            "type": "scattermap"
           }
          ],
          "scattermapbox": [
           {
            "marker": {
             "colorbar": {
              "outlinewidth": 0,
              "ticks": ""
             }
            },
            "type": "scattermapbox"
           }
          ],
          "scatterpolar": [
           {
            "marker": {
             "colorbar": {
              "outlinewidth": 0,
              "ticks": ""
             }
            },
            "type": "scatterpolar"
           }
          ],
          "scatterpolargl": [
           {
            "marker": {
             "colorbar": {
              "outlinewidth": 0,
              "ticks": ""
             }
            },
            "type": "scatterpolargl"
           }
          ],
          "scatterternary": [
           {
            "marker": {
             "colorbar": {
              "outlinewidth": 0,
              "ticks": ""
             }
            },
            "type": "scatterternary"
           }
          ],
          "surface": [
           {
            "colorbar": {
             "outlinewidth": 0,
             "ticks": ""
            },
            "colorscale": [
             [
              0,
              "#0d0887"
             ],
             [
              0.1111111111111111,
              "#46039f"
             ],
             [
              0.2222222222222222,
              "#7201a8"
             ],
             [
              0.3333333333333333,
              "#9c179e"
             ],
             [
              0.4444444444444444,
              "#bd3786"
             ],
             [
              0.5555555555555556,
              "#d8576b"
             ],
             [
              0.6666666666666666,
              "#ed7953"
             ],
             [
              0.7777777777777778,
              "#fb9f3a"
             ],
             [
              0.8888888888888888,
              "#fdca26"
             ],
             [
              1,
              "#f0f921"
             ]
            ],
            "type": "surface"
           }
          ],
          "table": [
           {
            "cells": {
             "fill": {
              "color": "#EBF0F8"
             },
             "line": {
              "color": "white"
             }
            },
            "header": {
             "fill": {
              "color": "#C8D4E3"
             },
             "line": {
              "color": "white"
             }
            },
            "type": "table"
           }
          ]
         },
         "layout": {
          "annotationdefaults": {
           "arrowcolor": "#2a3f5f",
           "arrowhead": 0,
           "arrowwidth": 1
          },
          "autotypenumbers": "strict",
          "coloraxis": {
           "colorbar": {
            "outlinewidth": 0,
            "ticks": ""
           }
          },
          "colorscale": {
           "diverging": [
            [
             0,
             "#8e0152"
            ],
            [
             0.1,
             "#c51b7d"
            ],
            [
             0.2,
             "#de77ae"
            ],
            [
             0.3,
             "#f1b6da"
            ],
            [
             0.4,
             "#fde0ef"
            ],
            [
             0.5,
             "#f7f7f7"
            ],
            [
             0.6,
             "#e6f5d0"
            ],
            [
             0.7,
             "#b8e186"
            ],
            [
             0.8,
             "#7fbc41"
            ],
            [
             0.9,
             "#4d9221"
            ],
            [
             1,
             "#276419"
            ]
           ],
           "sequential": [
            [
             0,
             "#0d0887"
            ],
            [
             0.1111111111111111,
             "#46039f"
            ],
            [
             0.2222222222222222,
             "#7201a8"
            ],
            [
             0.3333333333333333,
             "#9c179e"
            ],
            [
             0.4444444444444444,
             "#bd3786"
            ],
            [
             0.5555555555555556,
             "#d8576b"
            ],
            [
             0.6666666666666666,
             "#ed7953"
            ],
            [
             0.7777777777777778,
             "#fb9f3a"
            ],
            [
             0.8888888888888888,
             "#fdca26"
            ],
            [
             1,
             "#f0f921"
            ]
           ],
           "sequentialminus": [
            [
             0,
             "#0d0887"
            ],
            [
             0.1111111111111111,
             "#46039f"
            ],
            [
             0.2222222222222222,
             "#7201a8"
            ],
            [
             0.3333333333333333,
             "#9c179e"
            ],
            [
             0.4444444444444444,
             "#bd3786"
            ],
            [
             0.5555555555555556,
             "#d8576b"
            ],
            [
             0.6666666666666666,
             "#ed7953"
            ],
            [
             0.7777777777777778,
             "#fb9f3a"
            ],
            [
             0.8888888888888888,
             "#fdca26"
            ],
            [
             1,
             "#f0f921"
            ]
           ]
          },
          "colorway": [
           "#636efa",
           "#EF553B",
           "#00cc96",
           "#ab63fa",
           "#FFA15A",
           "#19d3f3",
           "#FF6692",
           "#B6E880",
           "#FF97FF",
           "#FECB52"
          ],
          "font": {
           "color": "#2a3f5f"
          },
          "geo": {
           "bgcolor": "white",
           "lakecolor": "white",
           "landcolor": "#E5ECF6",
           "showlakes": true,
           "showland": true,
           "subunitcolor": "white"
          },
          "hoverlabel": {
           "align": "left"
          },
          "hovermode": "closest",
          "mapbox": {
           "style": "light"
          },
          "paper_bgcolor": "white",
          "plot_bgcolor": "#E5ECF6",
          "polar": {
           "angularaxis": {
            "gridcolor": "white",
            "linecolor": "white",
            "ticks": ""
           },
           "bgcolor": "#E5ECF6",
           "radialaxis": {
            "gridcolor": "white",
            "linecolor": "white",
            "ticks": ""
           }
          },
          "scene": {
           "xaxis": {
            "backgroundcolor": "#E5ECF6",
            "gridcolor": "white",
            "gridwidth": 2,
            "linecolor": "white",
            "showbackground": true,
            "ticks": "",
            "zerolinecolor": "white"
           },
           "yaxis": {
            "backgroundcolor": "#E5ECF6",
            "gridcolor": "white",
            "gridwidth": 2,
            "linecolor": "white",
            "showbackground": true,
            "ticks": "",
            "zerolinecolor": "white"
           },
           "zaxis": {
            "backgroundcolor": "#E5ECF6",
            "gridcolor": "white",
            "gridwidth": 2,
            "linecolor": "white",
            "showbackground": true,
            "ticks": "",
            "zerolinecolor": "white"
           }
          },
          "shapedefaults": {
           "line": {
            "color": "#2a3f5f"
           }
          },
          "ternary": {
           "aaxis": {
            "gridcolor": "white",
            "linecolor": "white",
            "ticks": ""
           },
           "baxis": {
            "gridcolor": "white",
            "linecolor": "white",
            "ticks": ""
           },
           "bgcolor": "#E5ECF6",
           "caxis": {
            "gridcolor": "white",
            "linecolor": "white",
            "ticks": ""
           }
          },
          "title": {
           "x": 0.05
          },
          "xaxis": {
           "automargin": true,
           "gridcolor": "white",
           "linecolor": "white",
           "ticks": "",
           "title": {
            "standoff": 15
           },
           "zerolinecolor": "white",
           "zerolinewidth": 2
          },
          "yaxis": {
           "automargin": true,
           "gridcolor": "white",
           "linecolor": "white",
           "ticks": "",
           "title": {
            "standoff": 15
           },
           "zerolinecolor": "white",
           "zerolinewidth": 2
          }
         }
        },
        "title": {
         "text": "Nvidia Stock Price & SMAs"
        },
        "xaxis": {
         "anchor": "y",
         "domain": [
          0,
          1
         ],
         "title": {
          "text": "Date"
         }
        },
        "yaxis": {
         "anchor": "x",
         "domain": [
          0,
          1
         ],
         "title": {
          "text": "value"
         }
        }
       }
      }
     },
     "metadata": {},
     "output_type": "display_data"
    }
   ],
   "source": [
    "# Plot stock price\n",
    "six_month_ago = stock.index[-1] - pd.DateOffset(months = 6)\n",
    "six_month_ago = stock.index[stock.index > six_month_ago].min().strftime(\"%Y-%m-%d\")\n",
    "stock_to_show = stock.loc[stock.index > six_month_ago]\n",
    "fig = px.line(stock_to_show, \n",
    "              x=stock_to_show.index, \n",
    "              y=[\"Close\", \"SMA 200\", \"SMA 50\"], \n",
    "              title=f\"{company_name} Stock Price & SMAs\")\n",
    "\n",
    "fig.show()"
   ]
  },
  {
   "cell_type": "code",
   "execution_count": 14,
   "metadata": {},
   "outputs": [
    {
     "name": "stdout",
     "output_type": "stream",
     "text": [
      "sector Communication Services\n",
      "industry Internet Content & Information\n"
     ]
    }
   ],
   "source": [
    "ticker = 'META'\n",
    "\n",
    "print('sector', yf.Ticker(ticker).info['sector'])\n",
    "print('industry', yf.Ticker(ticker).info['industry'])"
   ]
  },
  {
   "cell_type": "code",
   "execution_count": 15,
   "metadata": {},
   "outputs": [
    {
     "data": {
      "text/plain": [
       "{'address1': '1 Meta Way',\n",
       " 'city': 'Menlo Park',\n",
       " 'state': 'CA',\n",
       " 'zip': '94025',\n",
       " 'country': 'United States',\n",
       " 'phone': '650 543 4800',\n",
       " 'website': 'https://investor.atmeta.com',\n",
       " 'industry': 'Internet Content & Information',\n",
       " 'industryKey': 'internet-content-information',\n",
       " 'industryDisp': 'Internet Content & Information',\n",
       " 'sector': 'Communication Services',\n",
       " 'sectorKey': 'communication-services',\n",
       " 'sectorDisp': 'Communication Services',\n",
       " 'longBusinessSummary': 'Meta Platforms, Inc. engages in the development of products that enable people to connect and share with friends and family through mobile devices, personal computers, virtual reality and mixed reality headsets, augmented reality, and wearables worldwide. It operates through two segments, Family of Apps (FoA) and Reality Labs (RL). The FoA segment offers Facebook, which enables people to build community through feed, reels, stories, groups, marketplace, and other; Instagram that brings people closer through instagram feed, stories, reels, live, and messaging; Messenger, a messaging application for people to connect with friends, family, communities, and businesses across platforms and devices through text, audio, and video calls; Threads, an application for text-based updates and public conversations; and WhatsApp, a messaging application that is used by people and businesses to communicate and transact in a private way. The RL segment provides virtual, augmented, and mixed reality related products comprising consumer hardware, software, and content that help people feel connected, anytime, and anywhere. The company was formerly known as Facebook, Inc. and changed its name to Meta Platforms, Inc. in October 2021. The company was incorporated in 2004 and is headquartered in Menlo Park, California.',\n",
       " 'fullTimeEmployees': 74067,\n",
       " 'companyOfficers': [{'maxAge': 1,\n",
       "   'name': 'Mr. Mark Elliot Zuckerberg',\n",
       "   'age': 40,\n",
       "   'title': 'Founder, Chairman & CEO',\n",
       "   'yearBorn': 1984,\n",
       "   'fiscalYear': 2023,\n",
       "   'totalPay': 24399968,\n",
       "   'exercisedValue': 0,\n",
       "   'unexercisedValue': 0},\n",
       "  {'maxAge': 1,\n",
       "   'name': 'Ms. Susan J. S. Li',\n",
       "   'age': 38,\n",
       "   'title': 'Chief Financial Officer',\n",
       "   'yearBorn': 1986,\n",
       "   'fiscalYear': 2023,\n",
       "   'totalPay': 1963161,\n",
       "   'exercisedValue': 0,\n",
       "   'unexercisedValue': 0},\n",
       "  {'maxAge': 1,\n",
       "   'name': 'Mr. Javier  Olivan',\n",
       "   'age': 47,\n",
       "   'title': 'Chief Operating Officer',\n",
       "   'yearBorn': 1977,\n",
       "   'fiscalYear': 2023,\n",
       "   'totalPay': 4065442,\n",
       "   'exercisedValue': 0,\n",
       "   'unexercisedValue': 0},\n",
       "  {'maxAge': 1,\n",
       "   'name': 'Mr. Andrew  Bosworth',\n",
       "   'age': 42,\n",
       "   'title': 'Chief Technology Officer',\n",
       "   'yearBorn': 1982,\n",
       "   'fiscalYear': 2023,\n",
       "   'totalPay': 2000988,\n",
       "   'exercisedValue': 0,\n",
       "   'unexercisedValue': 0},\n",
       "  {'maxAge': 1,\n",
       "   'name': 'Mr. Christopher K. Cox',\n",
       "   'age': 41,\n",
       "   'title': 'Chief Product Officer',\n",
       "   'yearBorn': 1983,\n",
       "   'fiscalYear': 2023,\n",
       "   'totalPay': 2013913,\n",
       "   'exercisedValue': 0,\n",
       "   'unexercisedValue': 0},\n",
       "  {'maxAge': 1,\n",
       "   'name': 'Mr. Aaron A. Anderson',\n",
       "   'title': 'Chief Accounting Officer',\n",
       "   'fiscalYear': 2023,\n",
       "   'exercisedValue': 0,\n",
       "   'unexercisedValue': 0},\n",
       "  {'maxAge': 1,\n",
       "   'name': 'Mr. Atish  Banerjea',\n",
       "   'age': 58,\n",
       "   'title': 'Chief Information Officer',\n",
       "   'yearBorn': 1966,\n",
       "   'fiscalYear': 2023,\n",
       "   'exercisedValue': 0,\n",
       "   'unexercisedValue': 0},\n",
       "  {'maxAge': 1,\n",
       "   'name': 'Ms. Jennifer G. Newstead J.D.',\n",
       "   'age': 54,\n",
       "   'title': 'Chief Legal Officer',\n",
       "   'yearBorn': 1970,\n",
       "   'fiscalYear': 2023,\n",
       "   'totalPay': 3079624,\n",
       "   'exercisedValue': 0,\n",
       "   'unexercisedValue': 0},\n",
       "  {'maxAge': 1,\n",
       "   'name': 'Mr. Henry T. A. Moniz',\n",
       "   'age': 58,\n",
       "   'title': 'Chief Compliance Officer',\n",
       "   'yearBorn': 1966,\n",
       "   'fiscalYear': 2023,\n",
       "   'exercisedValue': 0,\n",
       "   'unexercisedValue': 0},\n",
       "  {'maxAge': 1,\n",
       "   'name': 'Mr. Alexander P. Schultz',\n",
       "   'age': 41,\n",
       "   'title': 'Chief Marketing Officer and VP of Product, Growth, Analytics & Internationalization',\n",
       "   'yearBorn': 1983,\n",
       "   'fiscalYear': 2023,\n",
       "   'exercisedValue': 0,\n",
       "   'unexercisedValue': 0}],\n",
       " 'auditRisk': 10,\n",
       " 'boardRisk': 10,\n",
       " 'compensationRisk': 10,\n",
       " 'shareHolderRightsRisk': 10,\n",
       " 'overallRisk': 10,\n",
       " 'governanceEpochDate': 1740787200,\n",
       " 'compensationAsOfEpochDate': 1703980800,\n",
       " 'executiveTeam': [],\n",
       " 'maxAge': 86400,\n",
       " 'priceHint': 2,\n",
       " 'previousClose': 582.36,\n",
       " 'open': 584.02,\n",
       " 'dayLow': 574.77,\n",
       " 'dayHigh': 592.3223,\n",
       " 'regularMarketPreviousClose': 582.36,\n",
       " 'regularMarketOpen': 584.02,\n",
       " 'regularMarketDayLow': 574.77,\n",
       " 'regularMarketDayHigh': 592.3223,\n",
       " 'dividendRate': 2.1,\n",
       " 'dividendYield': 0.36,\n",
       " 'exDividendDate': 1741910400,\n",
       " 'payoutRatio': 0.0838,\n",
       " 'beta': 1.231,\n",
       " 'trailingPE': 24.386639,\n",
       " 'forwardPE': 23.085377,\n",
       " 'volume': 20470771,\n",
       " 'regularMarketVolume': 20470771,\n",
       " 'averageVolume': 15657877,\n",
       " 'averageVolume10days': 16832470,\n",
       " 'averageDailyVolume10Day': 16832470,\n",
       " 'bid': 583.97,\n",
       " 'ask': 584.23,\n",
       " 'bidSize': 1,\n",
       " 'askSize': 1,\n",
       " 'marketCap': 1475498999808,\n",
       " 'fiftyTwoWeekLow': 414.5,\n",
       " 'fiftyTwoWeekHigh': 740.91,\n",
       " 'priceToSalesTrailing12Months': 8.969544,\n",
       " 'fiftyDayAverage': 654.6572,\n",
       " 'twoHundredDayAverage': 571.3792,\n",
       " 'trailingAnnualDividendRate': 2.0,\n",
       " 'trailingAnnualDividendYield': 0.0034343018,\n",
       " 'currency': 'USD',\n",
       " 'tradeable': False,\n",
       " 'enterpriseValue': 1451763040256,\n",
       " 'profitMargins': 0.37909,\n",
       " 'floatShares': 2185534482,\n",
       " 'sharesOutstanding': 2189900032,\n",
       " 'sharesShort': 23941117,\n",
       " 'sharesShortPriorMonth': 26723031,\n",
       " 'sharesShortPreviousMonthDate': 1738281600,\n",
       " 'dateShortInterest': 1740700800,\n",
       " 'sharesPercentSharesOut': 0.0094,\n",
       " 'heldPercentInsiders': 0.00156,\n",
       " 'heldPercentInstitutions': 0.79277,\n",
       " 'shortRatio': 1.41,\n",
       " 'shortPercentOfFloat': 0.0109,\n",
       " 'impliedSharesOutstanding': 2533659904,\n",
       " 'bookValue': 72.075,\n",
       " 'priceToBook': 8.103503,\n",
       " 'lastFiscalYearEnd': 1735603200,\n",
       " 'nextFiscalYearEnd': 1767139200,\n",
       " 'mostRecentQuarter': 1735603200,\n",
       " 'earningsQuarterlyGrowth': 0.487,\n",
       " 'netIncomeToCommon': 62359998464,\n",
       " 'trailingEps': 23.95,\n",
       " 'forwardEps': 25.3,\n",
       " 'enterpriseToRevenue': 8.825,\n",
       " 'enterpriseToEbitda': 17.341,\n",
       " '52WeekChange': 0.15200186,\n",
       " 'SandP52WeekChange': 0.07465422,\n",
       " 'lastDividendValue': 0.525,\n",
       " 'lastDividendDate': 1741910400,\n",
       " 'quoteType': 'EQUITY',\n",
       " 'currentPrice': 584.06,\n",
       " 'targetHighPrice': 935.0,\n",
       " 'targetLowPrice': 505.0,\n",
       " 'targetMeanPrice': 765.0731,\n",
       " 'targetMedianPrice': 775.0,\n",
       " 'recommendationMean': 1.49206,\n",
       " 'recommendationKey': 'strong_buy',\n",
       " 'numberOfAnalystOpinions': 58,\n",
       " 'totalCash': 77814996992,\n",
       " 'totalCashPerShare': 30.712,\n",
       " 'ebitda': 83716997120,\n",
       " 'totalDebt': 49769000960,\n",
       " 'quickRatio': 2.822,\n",
       " 'currentRatio': 2.978,\n",
       " 'totalRevenue': 164500996096,\n",
       " 'debtToEquity': 27.25,\n",
       " 'revenuePerShare': 64.918,\n",
       " 'returnOnAssets': 0.16863,\n",
       " 'returnOnEquity': 0.37140998,\n",
       " 'grossProfits': 134371000320,\n",
       " 'freeCashflow': 36095000576,\n",
       " 'operatingCashflow': 91328004096,\n",
       " 'earningsGrowth': 0.514,\n",
       " 'revenueGrowth': 0.206,\n",
       " 'grossMargins': 0.81684,\n",
       " 'ebitdaMargins': 0.50891,\n",
       " 'operatingMargins': 0.45278,\n",
       " 'financialCurrency': 'USD',\n",
       " 'symbol': 'META',\n",
       " 'language': 'en-US',\n",
       " 'region': 'US',\n",
       " 'typeDisp': 'Equity',\n",
       " 'quoteSourceName': 'Nasdaq Real Time Price',\n",
       " 'triggerable': True,\n",
       " 'customPriceAlertConfidence': 'HIGH',\n",
       " 'marketState': 'POSTPOST',\n",
       " 'hasPrePostMarketData': True,\n",
       " 'firstTradeDateMilliseconds': 1337347800000,\n",
       " 'postMarketChangePercent': 0.744782,\n",
       " 'postMarketPrice': 588.41,\n",
       " 'postMarketChange': 4.34998,\n",
       " 'regularMarketChange': 1.7000122,\n",
       " 'regularMarketDayRange': '574.77 - 592.3223',\n",
       " 'fullExchangeName': 'NasdaqGS',\n",
       " 'averageDailyVolume3Month': 15657877,\n",
       " 'fiftyTwoWeekLowChange': 169.56,\n",
       " 'fiftyTwoWeekLowChangePercent': 0.40907118,\n",
       " 'fiftyTwoWeekRange': '414.5 - 740.91',\n",
       " 'fiftyTwoWeekHighChange': -156.84998,\n",
       " 'fiftyTwoWeekHighChangePercent': -0.2116991,\n",
       " 'fiftyTwoWeekChangePercent': 15.200186,\n",
       " 'dividendDate': 1742947200,\n",
       " 'earningsTimestamp': 1738186806,\n",
       " 'earningsTimestampStart': 1745319540,\n",
       " 'earningsTimestampEnd': 1745841600,\n",
       " 'earningsCallTimestampStart': 1738188000,\n",
       " 'earningsCallTimestampEnd': 1738188000,\n",
       " 'isEarningsDateEstimate': True,\n",
       " 'epsTrailingTwelveMonths': 23.95,\n",
       " 'epsForward': 25.3,\n",
       " 'epsCurrentYear': 25.35174,\n",
       " 'priceEpsCurrentYear': 23.038261,\n",
       " 'fiftyDayAverageChange': -70.59723,\n",
       " 'fiftyDayAverageChangePercent': -0.10783846,\n",
       " 'twoHundredDayAverageChange': 12.680786,\n",
       " 'twoHundredDayAverageChangePercent': 0.022193292,\n",
       " 'sourceInterval': 15,\n",
       " 'exchangeDataDelayedBy': 0,\n",
       " 'corporateActions': [],\n",
       " 'postMarketTime': 1742428797,\n",
       " 'regularMarketTime': 1742414403,\n",
       " 'exchange': 'NMS',\n",
       " 'messageBoardId': 'finmb_20765463',\n",
       " 'exchangeTimezoneName': 'America/New_York',\n",
       " 'exchangeTimezoneShortName': 'EDT',\n",
       " 'gmtOffSetMilliseconds': -14400000,\n",
       " 'market': 'us_market',\n",
       " 'esgPopulated': False,\n",
       " 'regularMarketChangePercent': 0.29191774,\n",
       " 'regularMarketPrice': 584.06,\n",
       " 'shortName': 'Meta Platforms, Inc.',\n",
       " 'longName': 'Meta Platforms, Inc.',\n",
       " 'ipoExpectedDate': '2022-06-09',\n",
       " 'prevName': 'Facebook, Inc.',\n",
       " 'nameChangeDate': '2025-03-19',\n",
       " 'averageAnalystRating': '1.5 - Strong Buy',\n",
       " 'cryptoTradeable': False,\n",
       " 'displayName': 'Meta Platforms',\n",
       " 'trailingPegRatio': 1.1689}"
      ]
     },
     "execution_count": 15,
     "metadata": {},
     "output_type": "execute_result"
    }
   ],
   "source": [
    "yf.Ticker(ticker).info"
   ]
  },
  {
   "cell_type": "code",
   "execution_count": 7,
   "metadata": {},
   "outputs": [],
   "source": [
    "from duckduckgo_search import DDGS\n",
    "\n",
    "def fetch_financial_news(name):\n",
    "    results = DDGS().news(keywords=f\"{name} financial report\")\n",
    "    return results"
   ]
  },
  {
   "cell_type": "code",
   "execution_count": 97,
   "metadata": {},
   "outputs": [],
   "source": [
    "result = fetch_financial_news('Nvidia')"
   ]
  },
  {
   "cell_type": "code",
   "execution_count": 98,
   "metadata": {},
   "outputs": [
    {
     "data": {
      "text/plain": [
       "[{'date': '2025-03-20T11:39:44+00:00',\n",
       "  'title': 'Nvidia Considers Massive US Supply Chain Expansion, Report Says',\n",
       "  'body': 'KEY TAKEAWAYS Nvidia could spend \"several hundred billion\" dollars on chips and other electronics to be made in the U.S. over the next four years, CEO Jensen Huang said in an interview with the Financial Times.',\n",
       "  'url': 'https://www.msn.com/en-us/money/markets/nvidia-considers-massive-us-supply-chain-expansion-report-says/ar-AA1BiXmf',\n",
       "  'image': 'https://img-s-msn-com.akamaized.net/tenant/amp/entityid/AA1p4RLj.img?w=3426&h=2396&m=4&q=60',\n",
       "  'source': 'Investopedia'},\n",
       " {'date': '2025-03-20T09:53:23+00:00',\n",
       "  'title': 'Nvidia to invest hundreds of billions in US made chips, electronics - report',\n",
       "  'body': 'Nvidia (NASDAQ:NVDA) plans to spend hundreds of billion dollars on chips and other electronics made in the U.S. over the next four years, the Financial Times reported. \"Overall, we will procure, over the course of the next four years,',\n",
       "  'url': 'https://www.msn.com/en-us/money/other/nvidia-to-invest-hundreds-of-billions-in-us-made-chips-electronics-report/ar-AA1Biy3v',\n",
       "  'image': 'https://img-s-msn-com.akamaized.net/tenant/amp/entityid/AA1f0Soz.img?w=1536&h=1024&m=4&q=42',\n",
       "  'source': 'Seeking Alpha'},\n",
       " {'date': '2025-03-20T19:54:00+00:00',\n",
       "  'title': 'Nvidia to invest billions in US chip production over four years',\n",
       "  'body': 'Nvidia plans to invest hundreds of billions of dollars in U.S.-made chips and electronics over the next four years',\n",
       "  'url': 'https://americanbazaaronline.com/2025/03/20/nvidia-to-invest-billions-in-us-chip-production-over-four-years-460966/',\n",
       "  'image': 'https://americanbazaaronline.com/wp-content/uploads/2025/02/02-nvidia-logo-color-grn-500x200-4c25-p.png',\n",
       "  'source': 'The American Bazaar'},\n",
       " {'date': '2025-02-26T20:43:00+00:00',\n",
       "  'title': 'Nvidia Earnings: AI Giant Brought In $39 Billion During Fourth Quarter—Smashing Forecasts',\n",
       "  'body': 'In its fourth fiscal quarter ending last month, Nvidia reported $39.3 billion in revenue, $0.89 adjusted earnings per share and $22.1 billion of net income, equating to year-over-year revenue growth of 78% and profit growth of 71%.',\n",
       "  'url': 'https://www.forbes.com/sites/dereksaul/2025/02/26/nvidia-earnings-ai-giant-brought-in--39-billion-during-fourth-quarter-smashing-forecasts/',\n",
       "  'image': '',\n",
       "  'source': 'Forbes'},\n",
       " {'date': '2025-03-20T10:40:00+00:00',\n",
       "  'title': 'Nvidia could be about to spend big on US tech drive',\n",
       "  'body': 'Nvidia Corp. aims to spend several hundred billion dollars to procure US-made chips and electronics over the next four years, the Financial Times reported.',\n",
       "  'url': 'https://www.msn.com/en-us/money/other/nvidia-plans-massive-outlay-on-us-made-electronics-ft-says/ar-AA1BhDzS',\n",
       "  'image': 'https://cdn-res.keymedia.com/cms/images/in/kris_638780639804449941.png',\n",
       "  'source': 'Bloomberg'},\n",
       " {'date': '2025-02-26T21:36:00+00:00',\n",
       "  'title': 'Nvidia earnings recap: Jensen Huang shouts out strong Blackwell demand and DeepSeek as company beats estimates',\n",
       "  'body': \"NVDA stock rose after hours as Nvidia's earnings results beat estimates. Blackwell chips brought in $11 billion for Nvidia, who said demand is strong.\",\n",
       "  'url': 'https://www.businessinsider.com/nvidia-stock-earnings-report-call-live-updates-2025-2',\n",
       "  'image': 'https://i.insider.com/6564c6f0fe5bc6545ebc737d?width=1200&format=jpeg',\n",
       "  'source': 'Insider'},\n",
       " {'date': '2025-03-20T10:28:00+00:00',\n",
       "  'title': 'NVIDIA Co. (NASDAQ:NVDA) Position Increased by Everhart Financial Group Inc.',\n",
       "  'body': \"Everhart Financial Group Inc. lifted its stake in shares of NVIDIA Co. (NASDAQ:NVDA - Free Report) by 8.6% during the fourth quarter, Holdings Channel reports. The fund owned 198,538 shares of the computer hardware maker's stock after acquiring an additional 15,\",\n",
       "  'url': 'https://www.etfdailynews.com/2025/03/20/nvidia-co-nasdaqnvda-position-increased-by-everhart-financial-group-inc/',\n",
       "  'image': 'https://www.americanbankingnews.com/wp-content/timthumb/timthumb.php?src=https://www.marketbeat.com/logos/nvidia-co-logo-1200x675.jpg?v=20221020142916&w=240&h=240&zc=2',\n",
       "  'source': 'ETF Daily News'},\n",
       " {'date': '2025-03-20T18:36:00+00:00',\n",
       "  'title': 'Nvidia CEO Huang says he was wrong about timeline for quantum, surprised his comments hurt stocks',\n",
       "  'body': 'Nvidia CEO Jensen Huang admitted at his company\\'s \"Quantum Day\" that his prior comments about quantum computing came out wrong.',\n",
       "  'url': 'https://www.nbcdfw.com/news/business/money-report/nvidia-ceo-huang-says-he-was-wrong-about-timeline-for-quantum-surprised-his-comments-hurt-stocks/3797175/',\n",
       "  'image': '',\n",
       "  'source': 'NBC 5 Dallas-Fort Worth'},\n",
       " {'date': '2025-03-20T13:32:00+00:00',\n",
       "  'title': 'Stock Movers: Tesla, Nvidia, Five Below',\n",
       "  'body': \"Tesla shares dropped on the news it's recalling all the Cybertrucks it produced and sold in the first 15 months it was on the market in the US over a safety issue it's having trouble resolving. The carmaker estimates that 1% of the 46,\",\n",
       "  'url': 'https://www.bloomberg.com/news/audio/2025-03-20/stock-movers-tesla-nvidia-five-below-podcast',\n",
       "  'image': '',\n",
       "  'source': 'Bloomberg'},\n",
       " {'date': '2025-02-26T12:34:00+00:00',\n",
       "  'title': 'Why Nvidia Stock Rallied Wednesday Ahead of Its Important Financial Report',\n",
       "  'body': 'Shares of Nvidia (NASDAQ: NVDA) gained ground on Wednesday, climbing as much as 5.6%. As of 11:37 a.m. ET, the stock was up 4.5%. The catalyst that sent the artificial intelligence (AI) chipmaker ...',\n",
       "  'url': 'https://www.aol.com/finance/why-nvidia-stock-rallied-wednesday-173300472.html',\n",
       "  'image': '',\n",
       "  'source': 'AOL'},\n",
       " {'date': '2025-03-20T12:14:00+00:00',\n",
       "  'title': 'Nvidia Acquires Synthetic Data Firm Gretel To Train AI Models: Report',\n",
       "  'body': \"Nvidia (NASDAQ: NVDA) has acquired synthetic data startup Gretel in a deal exceeding $320 million. The acquisition strengthens Nvidia's AI capabilities, integrating Gretel's technology into its cloud-based services.\",\n",
       "  'url': 'https://www.benzinga.com/25/03/44414790/nvidia-acquires-synthetic-data-firm-gretel-to-train-ai-models-report',\n",
       "  'image': 'https://cdn.benzinga.com/files/images/story/2025/03/20/Nvidia-July-17--2024.jpeg?width=1200&height=800&fit=crop',\n",
       "  'source': 'Benzinga'},\n",
       " {'date': '2025-03-20T11:25:00+00:00',\n",
       "  'title': 'Stock Movers: Tesla, Nvidia, Shoe Carnival',\n",
       "  'body': 'Connecting decision makers to a dynamic network of information, people and ideas, Bloomberg quickly and accurately delivers business and financial information, news and insight around the world',\n",
       "  'url': 'https://www.bloomberg.com/news/audio/2025-03-20/stock-movers-tesla-nvidia-shoe-carnival-podcast',\n",
       "  'image': '',\n",
       "  'source': 'Bloomberg'},\n",
       " {'date': '2025-03-20T10:28:00+00:00',\n",
       "  'title': 'Highland Financial Advisors LLC Invests $282,000 in NVIDIA Co. (NASDAQ:NVDA)',\n",
       "  'body': 'Highland Financial Advisors LLC bought a new stake in NVIDIA Co. (NASDAQ:NVDA - Free Report) during the fourth quarter, according to the company in its most recent 13F filing with the SEC. The institutional investor bought 2,',\n",
       "  'url': 'https://www.etfdailynews.com/2025/03/20/highland-financial-advisors-llc-invests-282000-in-nvidia-co-nasdaqnvda/',\n",
       "  'image': 'https://www.americanbankingnews.com/wp-content/timthumb/timthumb.php?src=https://www.marketbeat.com/logos/nvidia-co-logo-1200x675.jpg?v=20221020142916&w=240&h=240&zc=2',\n",
       "  'source': 'ETF Daily News'},\n",
       " {'date': '2025-03-19T21:17:00+00:00',\n",
       "  'title': 'Nvidia CEO Says Company Has Not Been Asked to Buy a Stake in Intel',\n",
       "  'body': \"SAN JOSE, California (Reuters) - Nvidia CEO Jensen Huang said on Wednesday that his company has not been approached about purchasing a stake in Intel. During a press conference at Nvidia's annual developer conference in San Jose, California, Huang was asked whether Nvidia was part of a consortium to buy Intel.\",\n",
       "  'url': 'https://money.usnews.com/investing/news/articles/2025-03-19/nvidia-ceo-says-company-has-not-been-asked-to-buy-a-stake-in-intel',\n",
       "  'image': '',\n",
       "  'source': 'U.S. News Money'},\n",
       " {'date': '2025-03-14T19:31:00+00:00',\n",
       "  'title': 'Nvidia surpasses Tesla as the No. 1 held stock on Robinhood, fueled by Gen Z interest',\n",
       "  'body': 'Is Nvidia still a worthwhile investment? Despite recent market headwinds, investors—especially young ones—are still bullish.',\n",
       "  'url': 'https://www.msn.com/en-us/money/topstocks/nvidia-surpasses-tesla-as-the-no-1-held-stock-on-robinhood-fueled-by-gen-z-interest/ar-AA1AVYdP',\n",
       "  'image': 'https://s.yimg.com/ny/api/res/1.2/WOVNmLHq5OTzLn.rW4oMLw--/YXBwaWQ9aGlnaGxhbmRlcjt3PTEyMDA7aD04MDA-/https://media.zenfs.com/en/aol_fortune_385/67fa83282badff600f63d867c85c55ed',\n",
       "  'source': 'Fortune'},\n",
       " {'date': '2025-03-17T16:28:00+00:00',\n",
       "  'title': 'Quantum Computing, AI Stocks Rise as Nvidia Kicks off Annual Conference',\n",
       "  'body': \"Investors will focus on CEO Jensen Huang's keynote on Tuesday to assess the latest developments in the AI and chip sectors, which have lost some luster on concerns over competing AI products in China and worries over the impact of U.S. tariffs.\",\n",
       "  'url': 'https://www.msn.com/en-us/money/other/quantum-computing-ai-stocks-rise-as-nvidia-kicks-off-annual-conference/ar-AA1B60mX',\n",
       "  'image': 'https://www.usnews.com/dims4/USNEWS/d06bb30/2147483647/thumbnail/970x647/quality/85/?url=https://www.usnews.com/cmsmedia/a5/de970abfd9fbc484e69891b1793c64/tag:reuters.com,2025:newsml_LYNXMPEL2G0PB:12025-03-17T162713Z_1_LYNXMPEL2G0PB_RTROPTP_3_EU-NVIDIA.JPG',\n",
       "  'source': 'Reuters'},\n",
       " {'date': '2025-03-21T00:23:00+00:00',\n",
       "  'title': 'Nvidia to open quantum computing lab, CEO Huang says',\n",
       "  'body': 'Chip giant Nvidia will open a quantum computing research lab in Boston, where it plans to collaborate with scientists from Harvard University and the Massachusetts Institute of Technology, chief executive Jensen Huang said on Thursday.',\n",
       "  'url': 'https://www.innovationaus.com/nvidia-to-open-quantum-computing-lab-ceo-huang-says/',\n",
       "  'image': '',\n",
       "  'source': 'InnovationAus.com'},\n",
       " {'date': '2025-03-19T13:09:00+00:00',\n",
       "  'title': 'Super Micro AI Servers Get Nvidia Boost, But SMCI Plunges 25% After Delayed Filing: Valuation Tumbles 80% In 3 Weeks',\n",
       "  'body': \"Super Micro Computer announced an AI server lineup with Nvidia Corp's latest RTX PRO 6000 Blackwell Server Edition GPU support.\",\n",
       "  'url': 'https://www.benzinga.com/general/market-summary/25/03/44397069/super-micro-ai-servers-get-nvidia-boost-but-smci-plunges-25-since-delayed-10k-filing-valuation-tumbles-80-in-three-weeks',\n",
       "  'image': 'https://cdn.benzinga.com/files/images/story/2025/03/19/Super-Micro-Computer--Inc--SMCI.jpeg?width=1200&height=800&fit=crop',\n",
       "  'source': 'Benzinga'},\n",
       " {'date': '2025-03-12T13:24:00+00:00',\n",
       "  'title': \"Nvidia's AI Party Starts Next Week\",\n",
       "  'body': 'Nvidia aims to solidify its market dominance against peers like Broadcom and AMD. See why I maintain my buy rating on NVDA stock ahead of the GTC 2025 event.',\n",
       "  'url': 'https://seekingalpha.com/article/4766818-nvidia-ai-party-starts-next-week',\n",
       "  'image': 'https://static.seekingalpha.com/cdn/s3/uploads/getty_images/1576241730/image_1576241730.jpg?io=getty-c-w1536',\n",
       "  'source': 'Seeking Alpha'},\n",
       " {'date': '2025-03-20T05:07:00+00:00',\n",
       "  'title': 'Nvidia to invest hundreds of billions in US chip production over next four years, FT reports',\n",
       "  'body': 'Chip giant expects to spend around half-a-trillion dollars on electronics during the four-year period. Read more at straitstimes.com.',\n",
       "  'url': 'https://www.straitstimes.com/business/companies-markets/nvidia-to-invest-hundreds-of-billions-in-us-chip-production-over-next-four-years-ft-reports',\n",
       "  'image': 'https://cassette.sphdigital.com.sg/image/straitstimes/39f93f3e2a9f951ce9d4b6303ad3c8570e1d89f296acfd65c4074c92e905c9f2',\n",
       "  'source': 'The Straits Times'},\n",
       " {'date': '2025-02-24T03:56:00+00:00',\n",
       "  'title': 'Watch These Nvidia Stock Price Levels With Earnings Report Set for Release Wednesday',\n",
       "  'body': \"Nvidia shares will be on watchlists as the AI favorite gears up to release its highly anticipated earnings report after Wednesday's closing bell. Monitor these crucial chart levels.\",\n",
       "  'url': 'https://www.msn.com/en-us/money/topstocks/watch-these-nvidia-stock-price-levels-with-earnings-report-set-for-release-wednesday/ar-AA1zDHrY',\n",
       "  'image': '',\n",
       "  'source': 'Investopedia'},\n",
       " {'date': '2025-03-20T04:48:00+00:00',\n",
       "  'title': 'Nvidia to invest billions in US chip production over four years: FT',\n",
       "  'body': 'BENGALURU] Nvidia plans to invest hundreds of billions of US dollars in US-made chips and electronics over the next four years, the Financial Times (FT) reported on Wednesday (Mar 19), quoting CEO Jensen Huang.',\n",
       "  'url': 'https://www.businesstimes.com.sg/companies-markets/telcos-media-tech/nvidia-invest-billions-us-chip-production-over-four-years-ft',\n",
       "  'image': '',\n",
       "  'source': 'The Business Times'},\n",
       " {'date': '2025-02-25T22:33:00+00:00',\n",
       "  'title': \"Everyone On Wall Street Is Watching for Nvidia's Earnings. Here's Why\",\n",
       "  'body': 'Nvidia, the poster child of the AI craze on Wall Street, is set to report quarterly earnings on Wednesday amid rising uncertainty about the U.S. economy, politics, and the economics of AI.',\n",
       "  'url': 'https://www.investopedia.com/everyone-on-wall-street-is-watching-for-nvidias-earnings-heres-why-11686351',\n",
       "  'image': '',\n",
       "  'source': 'Investopedia'},\n",
       " {'date': '2025-03-20T04:25:14+00:00',\n",
       "  'title': 'Nvidia to invest billions in US chip production over four years, FT reports',\n",
       "  'body': 'Nvidia plans to invest hundreds of billions of dollars in U.S.-made chips and electronics over the next four years, the Financial Times reported on Wednesday, quoting CEO Jensen Huang.',\n",
       "  'url': 'https://www.msn.com/en-gb/money/other/nvidia-to-invest-billions-in-us-chip-production-over-four-years-ft-reports/ar-AA1Bhpbn',\n",
       "  'image': 'https://www.reuters.com/resizer/v2/6B5WR4SKQZP2TMAG3Q2XBTNPYI.jpg?auth=59d379ca7c135ac530f505d629cb75a66d151e65898f6df6f217ccf28b3c5efb&height=1005&width=1920&quality=80&smart=true',\n",
       "  'source': 'Reuters'},\n",
       " {'date': '2025-03-17T16:08:00+00:00',\n",
       "  'title': 'U.S. politician makes super suspicious Nvidia stock trade',\n",
       "  'body': 'Representative Cleo Fields from Louisiana has disclosed a massive sale of Nvidia (NASDAQ: NVDA) stock in one of his rarest transactions.',\n",
       "  'url': 'https://finbold.com/u-s-politician-makes-super-suspicious-nvidia-stock-trade/',\n",
       "  'image': 'https://assets.finbold.com/uploads/2025/03/U.S.-politician-makes-super-suspicious-Nvidia-stock-trade-scaled.jpg',\n",
       "  'source': 'Finbold'},\n",
       " {'date': '2025-03-20T07:39:00+00:00',\n",
       "  'title': \"Morningstar foresees 'tremendous demand' for Nvidia's solutions; keeps US$130 fair value estimate\",\n",
       "  'body': 'Shares in Nvidia closed US$2.09 higher or 1.81% up at US$117.82 on March 19. Shares in the company are now up to US$118.79 after hours.',\n",
       "  'url': 'https://www.theedgesingapore.com/capital/brokers-calls/morningstar-foresees-tremendous-demand-nvidias-solutions-keeps-us130-fair',\n",
       "  'image': 'https://edgemarkets-transferred.s3-ap-southeast-1.amazonaws.com/423108222+-+Copy_0.jpg?843CfApg_nTGPBfs2i.3zTLEj0eqYAVM',\n",
       "  'source': 'The Edge Singapore'},\n",
       " {'date': '2025-03-20T03:11:00+00:00',\n",
       "  'title': 'Nvidia to spend hundreds of billions on US chipmaking over next 4 years, says chief',\n",
       "  'body': \"Jensen Huang's pledge follows onshoring plans by other tech companies as Donald Trump's trade policies ripple through industry\",\n",
       "  'url': 'https://www.ft.com/content/3fd3a717-2fbf-42ef-bb08-5baecdeb1985',\n",
       "  'image': '',\n",
       "  'source': 'Financial Times'}]"
      ]
     },
     "execution_count": 98,
     "metadata": {},
     "output_type": "execute_result"
    }
   ],
   "source": [
    "result"
   ]
  },
  {
   "cell_type": "code",
   "execution_count": null,
   "metadata": {},
   "outputs": [],
   "source": []
  },
  {
   "cell_type": "code",
   "execution_count": 99,
   "metadata": {},
   "outputs": [
    {
     "data": {
      "text/plain": [
       "'KEY TAKEAWAYS Nvidia could spend \"several hundred billion\" dollars on chips and other electronics to be made in the U.S. over the next four years, CEO Jensen Huang said in an interview with the Financial Times.Nvidia (NASDAQ:NVDA) plans to spend hundreds of billion dollars on chips and other electronics made in the U.S. over the next four years, the Financial Times reported. \"Overall, we will procure, over the course of the next four years,Nvidia plans to invest hundreds of billions of dollars in U.S.-made chips and electronics over the next four yearsIn its fourth fiscal quarter ending last month, Nvidia reported $39.3 billion in revenue, $0.89 adjusted earnings per share and $22.1 billion of net income, equating to year-over-year revenue growth of 78% and profit growth of 71%.Nvidia Corp. aims to spend several hundred billion dollars to procure US-made chips and electronics over the next four years, the Financial Times reported.NVDA stock rose after hours as Nvidia\\'s earnings results beat estimates. Blackwell chips brought in $11 billion for Nvidia, who said demand is strong.Everhart Financial Group Inc. lifted its stake in shares of NVIDIA Co. (NASDAQ:NVDA - Free Report) by 8.6% during the fourth quarter, Holdings Channel reports. The fund owned 198,538 shares of the computer hardware maker\\'s stock after acquiring an additional 15,Nvidia CEO Jensen Huang admitted at his company\\'s \"Quantum Day\" that his prior comments about quantum computing came out wrong.Tesla shares dropped on the news it\\'s recalling all the Cybertrucks it produced and sold in the first 15 months it was on the market in the US over a safety issue it\\'s having trouble resolving. The carmaker estimates that 1% of the 46,Shares of Nvidia (NASDAQ: NVDA) gained ground on Wednesday, climbing as much as 5.6%. As of 11:37 a.m. ET, the stock was up 4.5%. The catalyst that sent the artificial intelligence (AI) chipmaker ...Nvidia (NASDAQ: NVDA) has acquired synthetic data startup Gretel in a deal exceeding $320 million. The acquisition strengthens Nvidia\\'s AI capabilities, integrating Gretel\\'s technology into its cloud-based services.Connecting decision makers to a dynamic network of information, people and ideas, Bloomberg quickly and accurately delivers business and financial information, news and insight around the worldHighland Financial Advisors LLC bought a new stake in NVIDIA Co. (NASDAQ:NVDA - Free Report) during the fourth quarter, according to the company in its most recent 13F filing with the SEC. The institutional investor bought 2,SAN JOSE, California (Reuters) - Nvidia CEO Jensen Huang said on Wednesday that his company has not been approached about purchasing a stake in Intel. During a press conference at Nvidia\\'s annual developer conference in San Jose, California, Huang was asked whether Nvidia was part of a consortium to buy Intel.Is Nvidia still a worthwhile investment? Despite recent market headwinds, investors—especially young ones—are still bullish.Investors will focus on CEO Jensen Huang\\'s keynote on Tuesday to assess the latest developments in the AI and chip sectors, which have lost some luster on concerns over competing AI products in China and worries over the impact of U.S. tariffs.Chip giant Nvidia will open a quantum computing research lab in Boston, where it plans to collaborate with scientists from Harvard University and the Massachusetts Institute of Technology, chief executive Jensen Huang said on Thursday.Super Micro Computer announced an AI server lineup with Nvidia Corp\\'s latest RTX PRO 6000 Blackwell Server Edition GPU support.Nvidia aims to solidify its market dominance against peers like Broadcom and AMD. See why I maintain my buy rating on NVDA stock ahead of the GTC 2025 event.Chip giant expects to spend around half-a-trillion dollars on electronics during the four-year period. Read more at straitstimes.com.Nvidia shares will be on watchlists as the AI favorite gears up to release its highly anticipated earnings report after Wednesday\\'s closing bell. Monitor these crucial chart levels.BENGALURU] Nvidia plans to invest hundreds of billions of US dollars in US-made chips and electronics over the next four years, the Financial Times (FT) reported on Wednesday (Mar 19), quoting CEO Jensen Huang.Nvidia, the poster child of the AI craze on Wall Street, is set to report quarterly earnings on Wednesday amid rising uncertainty about the U.S. economy, politics, and the economics of AI.Nvidia plans to invest hundreds of billions of dollars in U.S.-made chips and electronics over the next four years, the Financial Times reported on Wednesday, quoting CEO Jensen Huang.Representative Cleo Fields from Louisiana has disclosed a massive sale of Nvidia (NASDAQ: NVDA) stock in one of his rarest transactions.Shares in Nvidia closed US$2.09 higher or 1.81% up at US$117.82 on March 19. Shares in the company are now up to US$118.79 after hours.Jensen Huang\\'s pledge follows onshoring plans by other tech companies as Donald Trump\\'s trade policies ripple through industry'"
      ]
     },
     "execution_count": 99,
     "metadata": {},
     "output_type": "execute_result"
    }
   ],
   "source": [
    "articles = ''\n",
    "\n",
    "articles = articles.join([r['body'] for r in result])\n",
    "\n",
    "articles"
   ]
  },
  {
   "cell_type": "code",
   "execution_count": 100,
   "metadata": {},
   "outputs": [
    {
     "data": {
      "text/plain": [
       "['KEY TAKEAWAYS Nvidia could spend \"several hundred billion\" dollars on chips and other electronics to be made in the U.S. over the next four years, CEO Jensen Huang said in an interview with the Financial Times.',\n",
       " 'Nvidia (NASDAQ:NVDA) plans to spend hundreds of billion dollars on chips and other electronics made in the U.S. over the next four years, the Financial Times reported. \"Overall, we will procure, over the course of the next four years,',\n",
       " 'Nvidia plans to invest hundreds of billions of dollars in U.S.-made chips and electronics over the next four years',\n",
       " 'In its fourth fiscal quarter ending last month, Nvidia reported $39.3 billion in revenue, $0.89 adjusted earnings per share and $22.1 billion of net income, equating to year-over-year revenue growth of 78% and profit growth of 71%.',\n",
       " 'Nvidia Corp. aims to spend several hundred billion dollars to procure US-made chips and electronics over the next four years, the Financial Times reported.',\n",
       " \"NVDA stock rose after hours as Nvidia's earnings results beat estimates. Blackwell chips brought in $11 billion for Nvidia, who said demand is strong.\",\n",
       " \"Everhart Financial Group Inc. lifted its stake in shares of NVIDIA Co. (NASDAQ:NVDA - Free Report) by 8.6% during the fourth quarter, Holdings Channel reports. The fund owned 198,538 shares of the computer hardware maker's stock after acquiring an additional 15,\",\n",
       " 'Nvidia CEO Jensen Huang admitted at his company\\'s \"Quantum Day\" that his prior comments about quantum computing came out wrong.',\n",
       " \"Tesla shares dropped on the news it's recalling all the Cybertrucks it produced and sold in the first 15 months it was on the market in the US over a safety issue it's having trouble resolving. The carmaker estimates that 1% of the 46,\",\n",
       " 'Shares of Nvidia (NASDAQ: NVDA) gained ground on Wednesday, climbing as much as 5.6%. As of 11:37 a.m. ET, the stock was up 4.5%. The catalyst that sent the artificial intelligence (AI) chipmaker ...',\n",
       " \"Nvidia (NASDAQ: NVDA) has acquired synthetic data startup Gretel in a deal exceeding $320 million. The acquisition strengthens Nvidia's AI capabilities, integrating Gretel's technology into its cloud-based services.\",\n",
       " 'Connecting decision makers to a dynamic network of information, people and ideas, Bloomberg quickly and accurately delivers business and financial information, news and insight around the world',\n",
       " 'Highland Financial Advisors LLC bought a new stake in NVIDIA Co. (NASDAQ:NVDA - Free Report) during the fourth quarter, according to the company in its most recent 13F filing with the SEC. The institutional investor bought 2,',\n",
       " \"SAN JOSE, California (Reuters) - Nvidia CEO Jensen Huang said on Wednesday that his company has not been approached about purchasing a stake in Intel. During a press conference at Nvidia's annual developer conference in San Jose, California, Huang was asked whether Nvidia was part of a consortium to buy Intel.\",\n",
       " 'Is Nvidia still a worthwhile investment? Despite recent market headwinds, investors—especially young ones—are still bullish.',\n",
       " \"Investors will focus on CEO Jensen Huang's keynote on Tuesday to assess the latest developments in the AI and chip sectors, which have lost some luster on concerns over competing AI products in China and worries over the impact of U.S. tariffs.\",\n",
       " 'Chip giant Nvidia will open a quantum computing research lab in Boston, where it plans to collaborate with scientists from Harvard University and the Massachusetts Institute of Technology, chief executive Jensen Huang said on Thursday.',\n",
       " \"Super Micro Computer announced an AI server lineup with Nvidia Corp's latest RTX PRO 6000 Blackwell Server Edition GPU support.\",\n",
       " 'Nvidia aims to solidify its market dominance against peers like Broadcom and AMD. See why I maintain my buy rating on NVDA stock ahead of the GTC 2025 event.',\n",
       " 'Chip giant expects to spend around half-a-trillion dollars on electronics during the four-year period. Read more at straitstimes.com.',\n",
       " \"Nvidia shares will be on watchlists as the AI favorite gears up to release its highly anticipated earnings report after Wednesday's closing bell. Monitor these crucial chart levels.\",\n",
       " 'BENGALURU] Nvidia plans to invest hundreds of billions of US dollars in US-made chips and electronics over the next four years, the Financial Times (FT) reported on Wednesday (Mar 19), quoting CEO Jensen Huang.',\n",
       " 'Nvidia, the poster child of the AI craze on Wall Street, is set to report quarterly earnings on Wednesday amid rising uncertainty about the U.S. economy, politics, and the economics of AI.',\n",
       " 'Nvidia plans to invest hundreds of billions of dollars in U.S.-made chips and electronics over the next four years, the Financial Times reported on Wednesday, quoting CEO Jensen Huang.',\n",
       " 'Representative Cleo Fields from Louisiana has disclosed a massive sale of Nvidia (NASDAQ: NVDA) stock in one of his rarest transactions.',\n",
       " 'Shares in Nvidia closed US$2.09 higher or 1.81% up at US$117.82 on March 19. Shares in the company are now up to US$118.79 after hours.',\n",
       " \"Jensen Huang's pledge follows onshoring plans by other tech companies as Donald Trump's trade policies ripple through industry\"]"
      ]
     },
     "execution_count": 100,
     "metadata": {},
     "output_type": "execute_result"
    }
   ],
   "source": [
    "[r['body'] for r in result]"
   ]
  },
  {
   "cell_type": "code",
   "execution_count": 101,
   "metadata": {},
   "outputs": [],
   "source": [
    "import ollama\n",
    "from typing import Literal"
   ]
  },
  {
   "cell_type": "code",
   "execution_count": 102,
   "metadata": {},
   "outputs": [],
   "source": [
    "class NewsAnalysisStructure(BaseModel):\n",
    "    events: list[str]\n",
    "    strengths: list[str]\n",
    "    weaknesses: list[str]\n",
    "    grade: Literal['Strongly Recommend', 'Recommend', 'Neutral', 'Risky', 'Highly Risky']\n",
    "    comment: str"
   ]
  },
  {
   "cell_type": "code",
   "execution_count": 112,
   "metadata": {},
   "outputs": [],
   "source": [
    "system_prompt = \"\"\"\n",
    "    You are a helpful financial analyst. Your task is to read and analyze articles about a company,\n",
    "    and extract three key events, strengths and weaknesses based on the article and your analysis for buy or sell decision of the company's stock or index fund's ETF.\n",
    "    Grade the stock or ETF based on your analysis and provide a very short single-sentence comment.\n",
    "    Highlight the keywords with compliance of markdown format if necessary.\n",
    "\"\"\""
   ]
  },
  {
   "cell_type": "code",
   "execution_count": 113,
   "metadata": {},
   "outputs": [],
   "source": [
    "response = ollama.chat(\n",
    "    model = 'gemma3:4b',\n",
    "    messages =[\n",
    "        {\n",
    "            'role': 'system',\n",
    "            'content': system_prompt\n",
    "        },\n",
    "        {\n",
    "            'role': 'user',\n",
    "            'content': articles\n",
    "        }\n",
    "    ], \n",
    "    format = NewsAnalysisStructure.model_json_schema()\n",
    ")"
   ]
  },
  {
   "cell_type": "code",
   "execution_count": 114,
   "metadata": {},
   "outputs": [],
   "source": [
    "llm_news_analysis = NewsAnalysisStructure.model_validate_json(response.message.content)"
   ]
  },
  {
   "cell_type": "code",
   "execution_count": 115,
   "metadata": {},
   "outputs": [],
   "source": [
    "events = llm_news_analysis.events\n",
    "weaknesses = llm_news_analysis.weaknesses\n",
    "strengths = llm_news_analysis.strengths\n",
    "grade = llm_news_analysis.grade\n",
    "comment = llm_news_analysis.comment"
   ]
  },
  {
   "cell_type": "code",
   "execution_count": 116,
   "metadata": {},
   "outputs": [
    {
     "name": "stdout",
     "output_type": "stream",
     "text": [
      "Strong Revenue Growth: Nvidia reported 78% revenue growth and 71% profit growth year-over-year, demonstrating robust demand for its products, particularly Blackwell chips.\n",
      "\n",
      "Market Dominance Strategy: Nvidia is actively pursuing strategies to solidify its market leadership against competitors like Broadcom and AMD.\n",
      "\n",
      "Strategic Investments: The company’s significant investment plans signal confidence in its long-term growth prospects and commitment to innovation.\n",
      "\n"
     ]
    }
   ],
   "source": [
    "for strength in strengths:\n",
    "    print(strength)\n",
    "    print()"
   ]
  },
  {
   "cell_type": "code",
   "execution_count": 117,
   "metadata": {},
   "outputs": [
    {
     "name": "stdout",
     "output_type": "stream",
     "text": [
      "External Risks: Concerns regarding U.S. tariffs and competing AI products in China pose potential headwinds.\n",
      "\n",
      "Recalls and Safety Issues: Tesla's CyberTruck recall highlights potential risks associated with product safety and execution.\n",
      "\n",
      "Reliance on AI Trends: Nvidia’s success is heavily tied to the continued growth and evolution of the AI market, which is subject to rapid change and competition.\n",
      "\n"
     ]
    }
   ],
   "source": [
    "for weakness in weaknesses:\n",
    "    print(weakness)\n",
    "    print()"
   ]
  },
  {
   "cell_type": "code",
   "execution_count": 118,
   "metadata": {},
   "outputs": [
    {
     "name": "stdout",
     "output_type": "stream",
     "text": [
      "Strongly Recommend\n"
     ]
    }
   ],
   "source": [
    "print(grade)"
   ]
  },
  {
   "cell_type": "code",
   "execution_count": 119,
   "metadata": {},
   "outputs": [
    {
     "name": "stdout",
     "output_type": "stream",
     "text": [
      "Despite external uncertainties, Nvidia’s aggressive investment strategy and demonstrated market leadership position it as a compelling buy for long-term investors.\n"
     ]
    }
   ],
   "source": [
    "print(comment)"
   ]
  },
  {
   "cell_type": "code",
   "execution_count": null,
   "metadata": {},
   "outputs": [],
   "source": []
  },
  {
   "cell_type": "code",
   "execution_count": null,
   "metadata": {},
   "outputs": [],
   "source": []
  },
  {
   "cell_type": "code",
   "execution_count": null,
   "metadata": {},
   "outputs": [],
   "source": []
  }
 ],
 "metadata": {
  "kernelspec": {
   "display_name": ".venv",
   "language": "python",
   "name": "python3"
  },
  "language_info": {
   "codemirror_mode": {
    "name": "ipython",
    "version": 3
   },
   "file_extension": ".py",
   "mimetype": "text/x-python",
   "name": "python",
   "nbconvert_exporter": "python",
   "pygments_lexer": "ipython3",
   "version": "3.13.1"
  }
 },
 "nbformat": 4,
 "nbformat_minor": 2
}
