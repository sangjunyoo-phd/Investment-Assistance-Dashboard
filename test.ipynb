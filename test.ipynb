{
 "cells": [
  {
   "cell_type": "code",
   "execution_count": 1,
   "metadata": {},
   "outputs": [],
   "source": [
    "# from quantitative_analysis import fetch_stock_data, calculate_technical_indicators\n",
    "import plotly.express as px\n",
    "import yfinance as yf\n",
    "import pandas as pd\n",
    "import numpy as np"
   ]
  },
  {
   "cell_type": "code",
   "execution_count": 2,
   "metadata": {},
   "outputs": [],
   "source": [
    "def fetch_stock_data(ticker:str) -> pd.DataFrame:\n",
    "    \"\"\"\n",
    "    Fetch the 6month stock data of single ticker from yahoo finance.\n",
    "    \"\"\"\n",
    "    stock = yf.download(ticker, period=\"18mo\")\n",
    "    stock.columns = stock.columns.droplevel(1) # Make the multi-index columns to a single level column; compatible with plotly\n",
    "    return stock"
   ]
  },
  {
   "cell_type": "code",
   "execution_count": 3,
   "metadata": {},
   "outputs": [],
   "source": [
    "def calculate_SMA(stock:pd.DataFrame, window:int) -> pd.DataFrame:\n",
    "    \"\"\"\n",
    "    Calculate the SMA (Top Hat Filter) with a given window size of the past 6 months.\n",
    "    \"\"\"\n",
    "    # Get the six_month_ago date: The first date shown on the graph\n",
    "    six_month_ago = stock.index[-1] - pd.DateOffset(months = 6)\n",
    "    six_month_ago = stock.index[stock.index > six_month_ago].min().strftime(\"%Y-%m-%d\")\n",
    "\n",
    "    # Fetch the right amount of data for SMA calculation\n",
    "    six_month_ago_index = np.where(stock.index == six_month_ago)[0][0]\n",
    "    stock_for_SMA = stock.iloc[six_month_ago_index-window:].copy()\n",
    "\n",
    "    SMA = stock_for_SMA[\"Close\"].rolling(window=window).mean()\n",
    "    stock[f'SMA {window}'] = SMA\n",
    "    return stock"
   ]
  },
  {
   "cell_type": "code",
   "execution_count": 4,
   "metadata": {},
   "outputs": [
    {
     "name": "stdout",
     "output_type": "stream",
     "text": [
      "YF.download() has changed argument auto_adjust default to True\n"
     ]
    },
    {
     "name": "stderr",
     "output_type": "stream",
     "text": [
      "[*********************100%***********************]  1 of 1 completed\n"
     ]
    }
   ],
   "source": [
    "ticker = 'NVDA'\n",
    "stock = fetch_stock_data(ticker)\n",
    "stock = calculate_SMA(stock, 50)\n",
    "stock = calculate_SMA(stock, 200)"
   ]
  },
  {
   "cell_type": "code",
   "execution_count": 5,
   "metadata": {},
   "outputs": [
    {
     "data": {
      "application/vnd.plotly.v1+json": {
       "config": {
        "plotlyServerURL": "https://plot.ly"
       },
       "data": [
        {
         "hovertemplate": "variable=Close<br>Date=%{x}<br>value=%{y}<extra></extra>",
         "legendgroup": "Close",
         "line": {
          "color": "#636efa",
          "dash": "solid"
         },
         "marker": {
          "symbol": "circle"
         },
         "mode": "lines",
         "name": "Close",
         "orientation": "v",
         "showlegend": true,
         "type": "scatter",
         "x": [
          "2024-09-17T00:00:00.000000000",
          "2024-09-18T00:00:00.000000000",
          "2024-09-19T00:00:00.000000000",
          "2024-09-20T00:00:00.000000000",
          "2024-09-23T00:00:00.000000000",
          "2024-09-24T00:00:00.000000000",
          "2024-09-25T00:00:00.000000000",
          "2024-09-26T00:00:00.000000000",
          "2024-09-27T00:00:00.000000000",
          "2024-09-30T00:00:00.000000000",
          "2024-10-01T00:00:00.000000000",
          "2024-10-02T00:00:00.000000000",
          "2024-10-03T00:00:00.000000000",
          "2024-10-04T00:00:00.000000000",
          "2024-10-07T00:00:00.000000000",
          "2024-10-08T00:00:00.000000000",
          "2024-10-09T00:00:00.000000000",
          "2024-10-10T00:00:00.000000000",
          "2024-10-11T00:00:00.000000000",
          "2024-10-14T00:00:00.000000000",
          "2024-10-15T00:00:00.000000000",
          "2024-10-16T00:00:00.000000000",
          "2024-10-17T00:00:00.000000000",
          "2024-10-18T00:00:00.000000000",
          "2024-10-21T00:00:00.000000000",
          "2024-10-22T00:00:00.000000000",
          "2024-10-23T00:00:00.000000000",
          "2024-10-24T00:00:00.000000000",
          "2024-10-25T00:00:00.000000000",
          "2024-10-28T00:00:00.000000000",
          "2024-10-29T00:00:00.000000000",
          "2024-10-30T00:00:00.000000000",
          "2024-10-31T00:00:00.000000000",
          "2024-11-01T00:00:00.000000000",
          "2024-11-04T00:00:00.000000000",
          "2024-11-05T00:00:00.000000000",
          "2024-11-06T00:00:00.000000000",
          "2024-11-07T00:00:00.000000000",
          "2024-11-08T00:00:00.000000000",
          "2024-11-11T00:00:00.000000000",
          "2024-11-12T00:00:00.000000000",
          "2024-11-13T00:00:00.000000000",
          "2024-11-14T00:00:00.000000000",
          "2024-11-15T00:00:00.000000000",
          "2024-11-18T00:00:00.000000000",
          "2024-11-19T00:00:00.000000000",
          "2024-11-20T00:00:00.000000000",
          "2024-11-21T00:00:00.000000000",
          "2024-11-22T00:00:00.000000000",
          "2024-11-25T00:00:00.000000000",
          "2024-11-26T00:00:00.000000000",
          "2024-11-27T00:00:00.000000000",
          "2024-11-29T00:00:00.000000000",
          "2024-12-02T00:00:00.000000000",
          "2024-12-03T00:00:00.000000000",
          "2024-12-04T00:00:00.000000000",
          "2024-12-05T00:00:00.000000000",
          "2024-12-06T00:00:00.000000000",
          "2024-12-09T00:00:00.000000000",
          "2024-12-10T00:00:00.000000000",
          "2024-12-11T00:00:00.000000000",
          "2024-12-12T00:00:00.000000000",
          "2024-12-13T00:00:00.000000000",
          "2024-12-16T00:00:00.000000000",
          "2024-12-17T00:00:00.000000000",
          "2024-12-18T00:00:00.000000000",
          "2024-12-19T00:00:00.000000000",
          "2024-12-20T00:00:00.000000000",
          "2024-12-23T00:00:00.000000000",
          "2024-12-24T00:00:00.000000000",
          "2024-12-26T00:00:00.000000000",
          "2024-12-27T00:00:00.000000000",
          "2024-12-30T00:00:00.000000000",
          "2024-12-31T00:00:00.000000000",
          "2025-01-02T00:00:00.000000000",
          "2025-01-03T00:00:00.000000000",
          "2025-01-06T00:00:00.000000000",
          "2025-01-07T00:00:00.000000000",
          "2025-01-08T00:00:00.000000000",
          "2025-01-10T00:00:00.000000000",
          "2025-01-13T00:00:00.000000000",
          "2025-01-14T00:00:00.000000000",
          "2025-01-15T00:00:00.000000000",
          "2025-01-16T00:00:00.000000000",
          "2025-01-17T00:00:00.000000000",
          "2025-01-21T00:00:00.000000000",
          "2025-01-22T00:00:00.000000000",
          "2025-01-23T00:00:00.000000000",
          "2025-01-24T00:00:00.000000000",
          "2025-01-27T00:00:00.000000000",
          "2025-01-28T00:00:00.000000000",
          "2025-01-29T00:00:00.000000000",
          "2025-01-30T00:00:00.000000000",
          "2025-01-31T00:00:00.000000000",
          "2025-02-03T00:00:00.000000000",
          "2025-02-04T00:00:00.000000000",
          "2025-02-05T00:00:00.000000000",
          "2025-02-06T00:00:00.000000000",
          "2025-02-07T00:00:00.000000000",
          "2025-02-10T00:00:00.000000000",
          "2025-02-11T00:00:00.000000000",
          "2025-02-12T00:00:00.000000000",
          "2025-02-13T00:00:00.000000000",
          "2025-02-14T00:00:00.000000000",
          "2025-02-18T00:00:00.000000000",
          "2025-02-19T00:00:00.000000000",
          "2025-02-20T00:00:00.000000000",
          "2025-02-21T00:00:00.000000000",
          "2025-02-24T00:00:00.000000000",
          "2025-02-25T00:00:00.000000000",
          "2025-02-26T00:00:00.000000000",
          "2025-02-27T00:00:00.000000000",
          "2025-02-28T00:00:00.000000000",
          "2025-03-03T00:00:00.000000000",
          "2025-03-04T00:00:00.000000000",
          "2025-03-05T00:00:00.000000000",
          "2025-03-06T00:00:00.000000000",
          "2025-03-07T00:00:00.000000000",
          "2025-03-10T00:00:00.000000000",
          "2025-03-11T00:00:00.000000000",
          "2025-03-12T00:00:00.000000000",
          "2025-03-13T00:00:00.000000000",
          "2025-03-14T00:00:00.000000000"
         ],
         "xaxis": "x",
         "y": {
          "bdata": "AAAA4JHkXEAAAABAg1ZcQAAAAGB3dl1AAAAAQM7+XEAAAACAcQ9dQAAAAIBvNl5AAAAAYF7fXkAAAACASAFfQAAAAMBZWF5AAAAA4OhaXkAAAACgyz5dQAAAACAttV1AAAAAoCK1XkAAAAAAmDlfQAAAAODD7F9AAAAAwMubYEAAAAAAHpRgQAAAAOA52WBAAAAAAOjYYEAAAACgh0FhQAAAAOCFcmBAAAAAYFf2YEAAAAAgDh1hQAAAACBKP2FAAAAAAPv1YUAAAAAgJPJhQAAAAKAzcWFAAAAAwGWMYUAAAAAgjbBhQAAAAKDqj2FAAAAA4EWnYUAAAACgKWphQAAAAACjl2BAAAAAYBrsYEAAAABg5gBhQAAAAGBmfGFAAAAAIMUyYkAAAADgZJtiQAAAAGBmc2JAAAAAgJInYkAAAAAghIhiQAAAAADjR2JAAAAAYJBXYkAAAAAAob5hQAAAAAAUhGFAAAAAIJBfYkAAAACgujtiQAAAAGCvVGJAAAAAQKu9YUAAAACg8P9gQAAAAEC8HGFAAAAA4C7qYEAAAADgSUdhQAAAAEByU2FAAAAAIJmHYUAAAACguyNiQAAAAEB+IWJAAAAAIKnNYUAAAADggllhQAAAAMDX4WBAAAAAgIJpYUAAAADAeSphQAAAAOCax2BAAAAAgJx/YEAAAACgGExgQAAAAKC9HGBAAAAAAGBVYEAAAADgANZgQAAAAGAHdWFAAAAAoKCGYUAAAAAgWX1hQAAAAKDqH2FAAAAAgEYvYUAAAACA4shgQAAAAECDSWFAAAAAYJ0OYkAAAADgUa1iQAAAAEARhGFAAAAAoBuDYUAAAABguPxgQAAAAMD3pmBAAAAAoO53YEAAAACARwdhQAAAAODYsWBAAAAAoFA2YUAAAABAJZphQAAAAMDOYWJAAAAAYJtmYkAAAACAa9NhQAAAAMAuml1AAAAAAE0fYEAAAABgEuxeQAAAAMDdKF9AAAAAAMYDXkAAAADAjSldQAAAAODmqF1AAAAAoGI0X0AAAACAYRVgQAAAAGB/OmBAAAAA4NixYEAAAACgNZlgQAAAACAYZGBAAAAAwOHoYEAAAACgylphQAAAAMBjbGFAAAAAQPNmYUAAAACgG4NhQAAAAEBdzWBAAAAAoJNIYEAAAAAgk6dfQAAAAOCSaGBAAAAAoOQIXkAAAAAAJTpfQAAAACArg1xAAAAAYK3+XEAAAACAglJdQAAAAEDUo1tAAAAAQH8rXEAAAAAgF75aQAAAAAAAMFtAAAAAIFzvXEAAAADAHuVcQAAAAEDhal5A",
          "dtype": "f8"
         },
         "yaxis": "y"
        },
        {
         "hovertemplate": "variable=SMA 200<br>Date=%{x}<br>value=%{y}<extra></extra>",
         "legendgroup": "SMA 200",
         "line": {
          "color": "#EF553B",
          "dash": "solid"
         },
         "marker": {
          "symbol": "circle"
         },
         "mode": "lines",
         "name": "SMA 200",
         "orientation": "v",
         "showlegend": true,
         "type": "scatter",
         "x": [
          "2024-09-17T00:00:00.000000000",
          "2024-09-18T00:00:00.000000000",
          "2024-09-19T00:00:00.000000000",
          "2024-09-20T00:00:00.000000000",
          "2024-09-23T00:00:00.000000000",
          "2024-09-24T00:00:00.000000000",
          "2024-09-25T00:00:00.000000000",
          "2024-09-26T00:00:00.000000000",
          "2024-09-27T00:00:00.000000000",
          "2024-09-30T00:00:00.000000000",
          "2024-10-01T00:00:00.000000000",
          "2024-10-02T00:00:00.000000000",
          "2024-10-03T00:00:00.000000000",
          "2024-10-04T00:00:00.000000000",
          "2024-10-07T00:00:00.000000000",
          "2024-10-08T00:00:00.000000000",
          "2024-10-09T00:00:00.000000000",
          "2024-10-10T00:00:00.000000000",
          "2024-10-11T00:00:00.000000000",
          "2024-10-14T00:00:00.000000000",
          "2024-10-15T00:00:00.000000000",
          "2024-10-16T00:00:00.000000000",
          "2024-10-17T00:00:00.000000000",
          "2024-10-18T00:00:00.000000000",
          "2024-10-21T00:00:00.000000000",
          "2024-10-22T00:00:00.000000000",
          "2024-10-23T00:00:00.000000000",
          "2024-10-24T00:00:00.000000000",
          "2024-10-25T00:00:00.000000000",
          "2024-10-28T00:00:00.000000000",
          "2024-10-29T00:00:00.000000000",
          "2024-10-30T00:00:00.000000000",
          "2024-10-31T00:00:00.000000000",
          "2024-11-01T00:00:00.000000000",
          "2024-11-04T00:00:00.000000000",
          "2024-11-05T00:00:00.000000000",
          "2024-11-06T00:00:00.000000000",
          "2024-11-07T00:00:00.000000000",
          "2024-11-08T00:00:00.000000000",
          "2024-11-11T00:00:00.000000000",
          "2024-11-12T00:00:00.000000000",
          "2024-11-13T00:00:00.000000000",
          "2024-11-14T00:00:00.000000000",
          "2024-11-15T00:00:00.000000000",
          "2024-11-18T00:00:00.000000000",
          "2024-11-19T00:00:00.000000000",
          "2024-11-20T00:00:00.000000000",
          "2024-11-21T00:00:00.000000000",
          "2024-11-22T00:00:00.000000000",
          "2024-11-25T00:00:00.000000000",
          "2024-11-26T00:00:00.000000000",
          "2024-11-27T00:00:00.000000000",
          "2024-11-29T00:00:00.000000000",
          "2024-12-02T00:00:00.000000000",
          "2024-12-03T00:00:00.000000000",
          "2024-12-04T00:00:00.000000000",
          "2024-12-05T00:00:00.000000000",
          "2024-12-06T00:00:00.000000000",
          "2024-12-09T00:00:00.000000000",
          "2024-12-10T00:00:00.000000000",
          "2024-12-11T00:00:00.000000000",
          "2024-12-12T00:00:00.000000000",
          "2024-12-13T00:00:00.000000000",
          "2024-12-16T00:00:00.000000000",
          "2024-12-17T00:00:00.000000000",
          "2024-12-18T00:00:00.000000000",
          "2024-12-19T00:00:00.000000000",
          "2024-12-20T00:00:00.000000000",
          "2024-12-23T00:00:00.000000000",
          "2024-12-24T00:00:00.000000000",
          "2024-12-26T00:00:00.000000000",
          "2024-12-27T00:00:00.000000000",
          "2024-12-30T00:00:00.000000000",
          "2024-12-31T00:00:00.000000000",
          "2025-01-02T00:00:00.000000000",
          "2025-01-03T00:00:00.000000000",
          "2025-01-06T00:00:00.000000000",
          "2025-01-07T00:00:00.000000000",
          "2025-01-08T00:00:00.000000000",
          "2025-01-10T00:00:00.000000000",
          "2025-01-13T00:00:00.000000000",
          "2025-01-14T00:00:00.000000000",
          "2025-01-15T00:00:00.000000000",
          "2025-01-16T00:00:00.000000000",
          "2025-01-17T00:00:00.000000000",
          "2025-01-21T00:00:00.000000000",
          "2025-01-22T00:00:00.000000000",
          "2025-01-23T00:00:00.000000000",
          "2025-01-24T00:00:00.000000000",
          "2025-01-27T00:00:00.000000000",
          "2025-01-28T00:00:00.000000000",
          "2025-01-29T00:00:00.000000000",
          "2025-01-30T00:00:00.000000000",
          "2025-01-31T00:00:00.000000000",
          "2025-02-03T00:00:00.000000000",
          "2025-02-04T00:00:00.000000000",
          "2025-02-05T00:00:00.000000000",
          "2025-02-06T00:00:00.000000000",
          "2025-02-07T00:00:00.000000000",
          "2025-02-10T00:00:00.000000000",
          "2025-02-11T00:00:00.000000000",
          "2025-02-12T00:00:00.000000000",
          "2025-02-13T00:00:00.000000000",
          "2025-02-14T00:00:00.000000000",
          "2025-02-18T00:00:00.000000000",
          "2025-02-19T00:00:00.000000000",
          "2025-02-20T00:00:00.000000000",
          "2025-02-21T00:00:00.000000000",
          "2025-02-24T00:00:00.000000000",
          "2025-02-25T00:00:00.000000000",
          "2025-02-26T00:00:00.000000000",
          "2025-02-27T00:00:00.000000000",
          "2025-02-28T00:00:00.000000000",
          "2025-03-03T00:00:00.000000000",
          "2025-03-04T00:00:00.000000000",
          "2025-03-05T00:00:00.000000000",
          "2025-03-06T00:00:00.000000000",
          "2025-03-07T00:00:00.000000000",
          "2025-03-10T00:00:00.000000000",
          "2025-03-11T00:00:00.000000000",
          "2025-03-12T00:00:00.000000000",
          "2025-03-13T00:00:00.000000000",
          "2025-03-14T00:00:00.000000000"
         ],
         "xaxis": "x",
         "y": {
          "bdata": "16NwUSjZVkApXI94eO5WQDMzM505BVdASOF6WsgbV0AAAACWFTJXQHE9CnUzSldAzczMDtBiV0DsUbiMTXtXQD0K18k6k1dAcT0K9daqV0CkcD0q5MBXQAAAAHJz11dAAAAAIh7vV0CkcD0qEQdYQDMzM0UQIFhApHA9GDE7WEBcj8JH9lVYQArXo3x5cVhA9ihcG9eMWEAzMzNDNalYQFyPwuF4w1hAzczM9A3fWEDD9SgEdftYQArXo8RkGFlAH4XrEwU3WUDhehSQQVVZQDMzM4UxcVlAKVyPdh6NWUBcj8LfBKlZQEjhehZxxFlAw/UoRCLgWUAzMzMVrvpZQHE9CuU5E1pAj8L1oEcsWkBxPQphx0RaQHE9CvF1XlpAAAAAcOV5WkApXI/W5pVaQK5H4fhssVpA16Nw+WDMWkD2KFy51+daQAAAALiPAltAZmZm9tUdW0A9CtfbGTdbQKRwPU7HTltAmpmZ4aJnW0DXo3CJfYBbQI/C9XT+mFtAPQrXRyKwW0DD9ShUlMRbQBSuR61G2VtAAAAAcIHtW0AK16NwGQJcQKRwPUY2F1xAFK5HTdwsXECuR+HiFEVcQEjheuDpXVxAXI/CEV5yXECuR+ESkoVcQM3MzDR9l1xAZmZmquOqXEDhehTC/b1cQJqZmRWkz1xAexSuw47fXECkcD1WA+5cQM3MzNDC+1xAAAAAODMJXUBI4XrgpxZdQK5H4aZYJ11ArkfhHsY4XUC4HoUXJUhdQJqZmdHoVl1AFK5H9cRmXUDXo3C9o3VdQHE9CjOZhV1AuB6FAzqXXUCamZlZIapdQHE9Cqu4uV1AZmZmzmPIXUAfheuFfNVdQNejcJ2B4l1AzczMjMvvXUAfhevFe/5dQLgehbdQDF5AH4XrYcMbXkAAAACUXSxeQLgehWvxP15AexSuU+VSXkD2KFwXqGReQPYoXEM+b15A7FG4Qqx8XkDhehQCRIdeQOxRuJLwkl5AZmZm6tidXkA9CtcjNqdeQDMzMytLsl5Aj8L1VCa/XkDsUbiS8s9eQArXoxwO4F5AFK5HSW3wXkCF61FEbgFfQHE9Ckf1EF9AcT0KUy4gX0Bcj8ItiTBfQArXowyAQV9Aj8L1PHxTX0DNzMws3WRfQKRwPXZ5c19AuB6FY69/X0B7FK43PItfQNejcJFRmF9AXI/ClV+iX0AAAAC0l61fQJqZmZUrtV9AuB6FLw+9X0Bcj8L5UcRfQD0K16+DyV9AMzMzA/3PX0BmZmYu5tNfQK5H4YYv2F9A7FG4MtneX0AzMzMXoeJfQArXoziB519A",
          "dtype": "f8"
         },
         "yaxis": "y"
        },
        {
         "hovertemplate": "variable=SMA 50<br>Date=%{x}<br>value=%{y}<extra></extra>",
         "legendgroup": "SMA 50",
         "line": {
          "color": "#00cc96",
          "dash": "solid"
         },
         "marker": {
          "symbol": "circle"
         },
         "mode": "lines",
         "name": "SMA 50",
         "orientation": "v",
         "showlegend": true,
         "type": "scatter",
         "x": [
          "2024-09-17T00:00:00.000000000",
          "2024-09-18T00:00:00.000000000",
          "2024-09-19T00:00:00.000000000",
          "2024-09-20T00:00:00.000000000",
          "2024-09-23T00:00:00.000000000",
          "2024-09-24T00:00:00.000000000",
          "2024-09-25T00:00:00.000000000",
          "2024-09-26T00:00:00.000000000",
          "2024-09-27T00:00:00.000000000",
          "2024-09-30T00:00:00.000000000",
          "2024-10-01T00:00:00.000000000",
          "2024-10-02T00:00:00.000000000",
          "2024-10-03T00:00:00.000000000",
          "2024-10-04T00:00:00.000000000",
          "2024-10-07T00:00:00.000000000",
          "2024-10-08T00:00:00.000000000",
          "2024-10-09T00:00:00.000000000",
          "2024-10-10T00:00:00.000000000",
          "2024-10-11T00:00:00.000000000",
          "2024-10-14T00:00:00.000000000",
          "2024-10-15T00:00:00.000000000",
          "2024-10-16T00:00:00.000000000",
          "2024-10-17T00:00:00.000000000",
          "2024-10-18T00:00:00.000000000",
          "2024-10-21T00:00:00.000000000",
          "2024-10-22T00:00:00.000000000",
          "2024-10-23T00:00:00.000000000",
          "2024-10-24T00:00:00.000000000",
          "2024-10-25T00:00:00.000000000",
          "2024-10-28T00:00:00.000000000",
          "2024-10-29T00:00:00.000000000",
          "2024-10-30T00:00:00.000000000",
          "2024-10-31T00:00:00.000000000",
          "2024-11-01T00:00:00.000000000",
          "2024-11-04T00:00:00.000000000",
          "2024-11-05T00:00:00.000000000",
          "2024-11-06T00:00:00.000000000",
          "2024-11-07T00:00:00.000000000",
          "2024-11-08T00:00:00.000000000",
          "2024-11-11T00:00:00.000000000",
          "2024-11-12T00:00:00.000000000",
          "2024-11-13T00:00:00.000000000",
          "2024-11-14T00:00:00.000000000",
          "2024-11-15T00:00:00.000000000",
          "2024-11-18T00:00:00.000000000",
          "2024-11-19T00:00:00.000000000",
          "2024-11-20T00:00:00.000000000",
          "2024-11-21T00:00:00.000000000",
          "2024-11-22T00:00:00.000000000",
          "2024-11-25T00:00:00.000000000",
          "2024-11-26T00:00:00.000000000",
          "2024-11-27T00:00:00.000000000",
          "2024-11-29T00:00:00.000000000",
          "2024-12-02T00:00:00.000000000",
          "2024-12-03T00:00:00.000000000",
          "2024-12-04T00:00:00.000000000",
          "2024-12-05T00:00:00.000000000",
          "2024-12-06T00:00:00.000000000",
          "2024-12-09T00:00:00.000000000",
          "2024-12-10T00:00:00.000000000",
          "2024-12-11T00:00:00.000000000",
          "2024-12-12T00:00:00.000000000",
          "2024-12-13T00:00:00.000000000",
          "2024-12-16T00:00:00.000000000",
          "2024-12-17T00:00:00.000000000",
          "2024-12-18T00:00:00.000000000",
          "2024-12-19T00:00:00.000000000",
          "2024-12-20T00:00:00.000000000",
          "2024-12-23T00:00:00.000000000",
          "2024-12-24T00:00:00.000000000",
          "2024-12-26T00:00:00.000000000",
          "2024-12-27T00:00:00.000000000",
          "2024-12-30T00:00:00.000000000",
          "2024-12-31T00:00:00.000000000",
          "2025-01-02T00:00:00.000000000",
          "2025-01-03T00:00:00.000000000",
          "2025-01-06T00:00:00.000000000",
          "2025-01-07T00:00:00.000000000",
          "2025-01-08T00:00:00.000000000",
          "2025-01-10T00:00:00.000000000",
          "2025-01-13T00:00:00.000000000",
          "2025-01-14T00:00:00.000000000",
          "2025-01-15T00:00:00.000000000",
          "2025-01-16T00:00:00.000000000",
          "2025-01-17T00:00:00.000000000",
          "2025-01-21T00:00:00.000000000",
          "2025-01-22T00:00:00.000000000",
          "2025-01-23T00:00:00.000000000",
          "2025-01-24T00:00:00.000000000",
          "2025-01-27T00:00:00.000000000",
          "2025-01-28T00:00:00.000000000",
          "2025-01-29T00:00:00.000000000",
          "2025-01-30T00:00:00.000000000",
          "2025-01-31T00:00:00.000000000",
          "2025-02-03T00:00:00.000000000",
          "2025-02-04T00:00:00.000000000",
          "2025-02-05T00:00:00.000000000",
          "2025-02-06T00:00:00.000000000",
          "2025-02-07T00:00:00.000000000",
          "2025-02-10T00:00:00.000000000",
          "2025-02-11T00:00:00.000000000",
          "2025-02-12T00:00:00.000000000",
          "2025-02-13T00:00:00.000000000",
          "2025-02-14T00:00:00.000000000",
          "2025-02-18T00:00:00.000000000",
          "2025-02-19T00:00:00.000000000",
          "2025-02-20T00:00:00.000000000",
          "2025-02-21T00:00:00.000000000",
          "2025-02-24T00:00:00.000000000",
          "2025-02-25T00:00:00.000000000",
          "2025-02-26T00:00:00.000000000",
          "2025-02-27T00:00:00.000000000",
          "2025-02-28T00:00:00.000000000",
          "2025-03-03T00:00:00.000000000",
          "2025-03-04T00:00:00.000000000",
          "2025-03-05T00:00:00.000000000",
          "2025-03-06T00:00:00.000000000",
          "2025-03-07T00:00:00.000000000",
          "2025-03-10T00:00:00.000000000",
          "2025-03-11T00:00:00.000000000",
          "2025-03-12T00:00:00.000000000",
          "2025-03-13T00:00:00.000000000",
          "2025-03-14T00:00:00.000000000"
         ],
         "xaxis": "x",
         "y": {
          "bdata": "MzMzg6dFXUD2KFyfni5dQBSuR6HTGF1A9ihcP0AKXUBI4XpEp/lcQKRwPbr671xAhetRiFjsXEDNzMz8GfRcQDMzM/OC9FxAmpmZOQT5XEAUrkcBqfBcQNejcB3j61xAmpmZ6ef2XEBI4XpEGAddQEjhenTeGV1AuB6FCyQ1XUDsUbjuKVpdQD0K17PxcF1A7FG4vrSRXUDhehSuIrldQHE9ChcD4V1AFK5HcUwJXkCkcD2a9zleQClcjxJAZF5A7FG4Xh+WXkAUrkeBYMJeQK5H4cpc4F5AUrgeBfT8XkCamZmJ3xRfQIXrUWhJKV9AuB6F27I3X0AAAABwL0dfQKRwPbqmTF9APQrXU5ZbX0AfheuBJmRfQD0K16NgdV9ASOF6dIuLX0DXo3DdVqlfQFK4HhXMz19AKVyPsvHwX0AUrkdpQhJgQFyPwkXmK2BAH4XrmTZFYECF61FYRV5gQD0K1xPUc2BASOF6lLuMYECamZmJSJ9gQD0K11PmsGBAAAAAeIW/YEDsUbg+1ctgQMP1KGR72WBAhetRYIrnYEBmZmbmlPRgQArXowAQA2FAexSuh2sSYUCamZlJ8yFhQD0K1xu/L2FArkfh4oY7YUCkcD1yrEZhQArXo8BmT2FAmpmZAa9dYUCF61F4hWlhQOF6FHbScGFAhetRwFt1YUCuR+GaEndhQFK4HhWIdGFAexSu10ZzYUB7FK5XNnNhQArXo7BVdmFAhetReLd3YUDXo3CdDX1hQK5H4XrifWFASOF6xD9+YUCPwvWI4XthQAAAAIBueGFAj8L1SAB5YUD2KFzPUn9hQI/C9Sgof2FA16NwfT9+YUCF61HYTXthQAAAAJAtdmFAexSuV1VxYUA9CtfzkHNhQOxRuK5mcmFArkfhKnhzYUBxPQp3EHRhQMP1KEwBdWFAcT0KB/NzYUDhehTuv3BhQB+F64GUX2FA16NwXTxTYUBSuB59zERhQClcj/qnNmFAXI/CLaQoYUDD9SiEnRlhQKRwPRp5B2FACtejmAD6YEAfhesJf+5gQArXo7jA5mBArkfh4jDlYEAUrkd5j+JgQIXrUfDg32BAuB6Fk/3dYEBxPQovI95gQIXrUeCX3WBAcT0KT9HZYECF61FgptZgQLgehSOG0WBA7FG4thDMYEB7FK4HqsZgQEjheoSGwWBAZmZmXoa2YECamZnhjbBgQM3MzNwSpWBACtejyNubYEDsUbjGbZRgQKRwPUKPh2BAFK5HeXl5YECamZkJjmRgQK5H4RpsUGBASOF67PJAYEDhehTmPTNgQNejcAUgKWBA",
          "dtype": "f8"
         },
         "yaxis": "y"
        }
       ],
       "layout": {
        "legend": {
         "title": {
          "text": "variable"
         },
         "tracegroupgap": 0
        },
        "template": {
         "data": {
          "bar": [
           {
            "error_x": {
             "color": "#2a3f5f"
            },
            "error_y": {
             "color": "#2a3f5f"
            },
            "marker": {
             "line": {
              "color": "#E5ECF6",
              "width": 0.5
             },
             "pattern": {
              "fillmode": "overlay",
              "size": 10,
              "solidity": 0.2
             }
            },
            "type": "bar"
           }
          ],
          "barpolar": [
           {
            "marker": {
             "line": {
              "color": "#E5ECF6",
              "width": 0.5
             },
             "pattern": {
              "fillmode": "overlay",
              "size": 10,
              "solidity": 0.2
             }
            },
            "type": "barpolar"
           }
          ],
          "carpet": [
           {
            "aaxis": {
             "endlinecolor": "#2a3f5f",
             "gridcolor": "white",
             "linecolor": "white",
             "minorgridcolor": "white",
             "startlinecolor": "#2a3f5f"
            },
            "baxis": {
             "endlinecolor": "#2a3f5f",
             "gridcolor": "white",
             "linecolor": "white",
             "minorgridcolor": "white",
             "startlinecolor": "#2a3f5f"
            },
            "type": "carpet"
           }
          ],
          "choropleth": [
           {
            "colorbar": {
             "outlinewidth": 0,
             "ticks": ""
            },
            "type": "choropleth"
           }
          ],
          "contour": [
           {
            "colorbar": {
             "outlinewidth": 0,
             "ticks": ""
            },
            "colorscale": [
             [
              0,
              "#0d0887"
             ],
             [
              0.1111111111111111,
              "#46039f"
             ],
             [
              0.2222222222222222,
              "#7201a8"
             ],
             [
              0.3333333333333333,
              "#9c179e"
             ],
             [
              0.4444444444444444,
              "#bd3786"
             ],
             [
              0.5555555555555556,
              "#d8576b"
             ],
             [
              0.6666666666666666,
              "#ed7953"
             ],
             [
              0.7777777777777778,
              "#fb9f3a"
             ],
             [
              0.8888888888888888,
              "#fdca26"
             ],
             [
              1,
              "#f0f921"
             ]
            ],
            "type": "contour"
           }
          ],
          "contourcarpet": [
           {
            "colorbar": {
             "outlinewidth": 0,
             "ticks": ""
            },
            "type": "contourcarpet"
           }
          ],
          "heatmap": [
           {
            "colorbar": {
             "outlinewidth": 0,
             "ticks": ""
            },
            "colorscale": [
             [
              0,
              "#0d0887"
             ],
             [
              0.1111111111111111,
              "#46039f"
             ],
             [
              0.2222222222222222,
              "#7201a8"
             ],
             [
              0.3333333333333333,
              "#9c179e"
             ],
             [
              0.4444444444444444,
              "#bd3786"
             ],
             [
              0.5555555555555556,
              "#d8576b"
             ],
             [
              0.6666666666666666,
              "#ed7953"
             ],
             [
              0.7777777777777778,
              "#fb9f3a"
             ],
             [
              0.8888888888888888,
              "#fdca26"
             ],
             [
              1,
              "#f0f921"
             ]
            ],
            "type": "heatmap"
           }
          ],
          "histogram": [
           {
            "marker": {
             "pattern": {
              "fillmode": "overlay",
              "size": 10,
              "solidity": 0.2
             }
            },
            "type": "histogram"
           }
          ],
          "histogram2d": [
           {
            "colorbar": {
             "outlinewidth": 0,
             "ticks": ""
            },
            "colorscale": [
             [
              0,
              "#0d0887"
             ],
             [
              0.1111111111111111,
              "#46039f"
             ],
             [
              0.2222222222222222,
              "#7201a8"
             ],
             [
              0.3333333333333333,
              "#9c179e"
             ],
             [
              0.4444444444444444,
              "#bd3786"
             ],
             [
              0.5555555555555556,
              "#d8576b"
             ],
             [
              0.6666666666666666,
              "#ed7953"
             ],
             [
              0.7777777777777778,
              "#fb9f3a"
             ],
             [
              0.8888888888888888,
              "#fdca26"
             ],
             [
              1,
              "#f0f921"
             ]
            ],
            "type": "histogram2d"
           }
          ],
          "histogram2dcontour": [
           {
            "colorbar": {
             "outlinewidth": 0,
             "ticks": ""
            },
            "colorscale": [
             [
              0,
              "#0d0887"
             ],
             [
              0.1111111111111111,
              "#46039f"
             ],
             [
              0.2222222222222222,
              "#7201a8"
             ],
             [
              0.3333333333333333,
              "#9c179e"
             ],
             [
              0.4444444444444444,
              "#bd3786"
             ],
             [
              0.5555555555555556,
              "#d8576b"
             ],
             [
              0.6666666666666666,
              "#ed7953"
             ],
             [
              0.7777777777777778,
              "#fb9f3a"
             ],
             [
              0.8888888888888888,
              "#fdca26"
             ],
             [
              1,
              "#f0f921"
             ]
            ],
            "type": "histogram2dcontour"
           }
          ],
          "mesh3d": [
           {
            "colorbar": {
             "outlinewidth": 0,
             "ticks": ""
            },
            "type": "mesh3d"
           }
          ],
          "parcoords": [
           {
            "line": {
             "colorbar": {
              "outlinewidth": 0,
              "ticks": ""
             }
            },
            "type": "parcoords"
           }
          ],
          "pie": [
           {
            "automargin": true,
            "type": "pie"
           }
          ],
          "scatter": [
           {
            "fillpattern": {
             "fillmode": "overlay",
             "size": 10,
             "solidity": 0.2
            },
            "type": "scatter"
           }
          ],
          "scatter3d": [
           {
            "line": {
             "colorbar": {
              "outlinewidth": 0,
              "ticks": ""
             }
            },
            "marker": {
             "colorbar": {
              "outlinewidth": 0,
              "ticks": ""
             }
            },
            "type": "scatter3d"
           }
          ],
          "scattercarpet": [
           {
            "marker": {
             "colorbar": {
              "outlinewidth": 0,
              "ticks": ""
             }
            },
            "type": "scattercarpet"
           }
          ],
          "scattergeo": [
           {
            "marker": {
             "colorbar": {
              "outlinewidth": 0,
              "ticks": ""
             }
            },
            "type": "scattergeo"
           }
          ],
          "scattergl": [
           {
            "marker": {
             "colorbar": {
              "outlinewidth": 0,
              "ticks": ""
             }
            },
            "type": "scattergl"
           }
          ],
          "scattermap": [
           {
            "marker": {
             "colorbar": {
              "outlinewidth": 0,
              "ticks": ""
             }
            },
            "type": "scattermap"
           }
          ],
          "scattermapbox": [
           {
            "marker": {
             "colorbar": {
              "outlinewidth": 0,
              "ticks": ""
             }
            },
            "type": "scattermapbox"
           }
          ],
          "scatterpolar": [
           {
            "marker": {
             "colorbar": {
              "outlinewidth": 0,
              "ticks": ""
             }
            },
            "type": "scatterpolar"
           }
          ],
          "scatterpolargl": [
           {
            "marker": {
             "colorbar": {
              "outlinewidth": 0,
              "ticks": ""
             }
            },
            "type": "scatterpolargl"
           }
          ],
          "scatterternary": [
           {
            "marker": {
             "colorbar": {
              "outlinewidth": 0,
              "ticks": ""
             }
            },
            "type": "scatterternary"
           }
          ],
          "surface": [
           {
            "colorbar": {
             "outlinewidth": 0,
             "ticks": ""
            },
            "colorscale": [
             [
              0,
              "#0d0887"
             ],
             [
              0.1111111111111111,
              "#46039f"
             ],
             [
              0.2222222222222222,
              "#7201a8"
             ],
             [
              0.3333333333333333,
              "#9c179e"
             ],
             [
              0.4444444444444444,
              "#bd3786"
             ],
             [
              0.5555555555555556,
              "#d8576b"
             ],
             [
              0.6666666666666666,
              "#ed7953"
             ],
             [
              0.7777777777777778,
              "#fb9f3a"
             ],
             [
              0.8888888888888888,
              "#fdca26"
             ],
             [
              1,
              "#f0f921"
             ]
            ],
            "type": "surface"
           }
          ],
          "table": [
           {
            "cells": {
             "fill": {
              "color": "#EBF0F8"
             },
             "line": {
              "color": "white"
             }
            },
            "header": {
             "fill": {
              "color": "#C8D4E3"
             },
             "line": {
              "color": "white"
             }
            },
            "type": "table"
           }
          ]
         },
         "layout": {
          "annotationdefaults": {
           "arrowcolor": "#2a3f5f",
           "arrowhead": 0,
           "arrowwidth": 1
          },
          "autotypenumbers": "strict",
          "coloraxis": {
           "colorbar": {
            "outlinewidth": 0,
            "ticks": ""
           }
          },
          "colorscale": {
           "diverging": [
            [
             0,
             "#8e0152"
            ],
            [
             0.1,
             "#c51b7d"
            ],
            [
             0.2,
             "#de77ae"
            ],
            [
             0.3,
             "#f1b6da"
            ],
            [
             0.4,
             "#fde0ef"
            ],
            [
             0.5,
             "#f7f7f7"
            ],
            [
             0.6,
             "#e6f5d0"
            ],
            [
             0.7,
             "#b8e186"
            ],
            [
             0.8,
             "#7fbc41"
            ],
            [
             0.9,
             "#4d9221"
            ],
            [
             1,
             "#276419"
            ]
           ],
           "sequential": [
            [
             0,
             "#0d0887"
            ],
            [
             0.1111111111111111,
             "#46039f"
            ],
            [
             0.2222222222222222,
             "#7201a8"
            ],
            [
             0.3333333333333333,
             "#9c179e"
            ],
            [
             0.4444444444444444,
             "#bd3786"
            ],
            [
             0.5555555555555556,
             "#d8576b"
            ],
            [
             0.6666666666666666,
             "#ed7953"
            ],
            [
             0.7777777777777778,
             "#fb9f3a"
            ],
            [
             0.8888888888888888,
             "#fdca26"
            ],
            [
             1,
             "#f0f921"
            ]
           ],
           "sequentialminus": [
            [
             0,
             "#0d0887"
            ],
            [
             0.1111111111111111,
             "#46039f"
            ],
            [
             0.2222222222222222,
             "#7201a8"
            ],
            [
             0.3333333333333333,
             "#9c179e"
            ],
            [
             0.4444444444444444,
             "#bd3786"
            ],
            [
             0.5555555555555556,
             "#d8576b"
            ],
            [
             0.6666666666666666,
             "#ed7953"
            ],
            [
             0.7777777777777778,
             "#fb9f3a"
            ],
            [
             0.8888888888888888,
             "#fdca26"
            ],
            [
             1,
             "#f0f921"
            ]
           ]
          },
          "colorway": [
           "#636efa",
           "#EF553B",
           "#00cc96",
           "#ab63fa",
           "#FFA15A",
           "#19d3f3",
           "#FF6692",
           "#B6E880",
           "#FF97FF",
           "#FECB52"
          ],
          "font": {
           "color": "#2a3f5f"
          },
          "geo": {
           "bgcolor": "white",
           "lakecolor": "white",
           "landcolor": "#E5ECF6",
           "showlakes": true,
           "showland": true,
           "subunitcolor": "white"
          },
          "hoverlabel": {
           "align": "left"
          },
          "hovermode": "closest",
          "mapbox": {
           "style": "light"
          },
          "paper_bgcolor": "white",
          "plot_bgcolor": "#E5ECF6",
          "polar": {
           "angularaxis": {
            "gridcolor": "white",
            "linecolor": "white",
            "ticks": ""
           },
           "bgcolor": "#E5ECF6",
           "radialaxis": {
            "gridcolor": "white",
            "linecolor": "white",
            "ticks": ""
           }
          },
          "scene": {
           "xaxis": {
            "backgroundcolor": "#E5ECF6",
            "gridcolor": "white",
            "gridwidth": 2,
            "linecolor": "white",
            "showbackground": true,
            "ticks": "",
            "zerolinecolor": "white"
           },
           "yaxis": {
            "backgroundcolor": "#E5ECF6",
            "gridcolor": "white",
            "gridwidth": 2,
            "linecolor": "white",
            "showbackground": true,
            "ticks": "",
            "zerolinecolor": "white"
           },
           "zaxis": {
            "backgroundcolor": "#E5ECF6",
            "gridcolor": "white",
            "gridwidth": 2,
            "linecolor": "white",
            "showbackground": true,
            "ticks": "",
            "zerolinecolor": "white"
           }
          },
          "shapedefaults": {
           "line": {
            "color": "#2a3f5f"
           }
          },
          "ternary": {
           "aaxis": {
            "gridcolor": "white",
            "linecolor": "white",
            "ticks": ""
           },
           "baxis": {
            "gridcolor": "white",
            "linecolor": "white",
            "ticks": ""
           },
           "bgcolor": "#E5ECF6",
           "caxis": {
            "gridcolor": "white",
            "linecolor": "white",
            "ticks": ""
           }
          },
          "title": {
           "x": 0.05
          },
          "xaxis": {
           "automargin": true,
           "gridcolor": "white",
           "linecolor": "white",
           "ticks": "",
           "title": {
            "standoff": 15
           },
           "zerolinecolor": "white",
           "zerolinewidth": 2
          },
          "yaxis": {
           "automargin": true,
           "gridcolor": "white",
           "linecolor": "white",
           "ticks": "",
           "title": {
            "standoff": 15
           },
           "zerolinecolor": "white",
           "zerolinewidth": 2
          }
         }
        },
        "title": {
         "text": "NVDA Stock Price & SMAs"
        },
        "xaxis": {
         "anchor": "y",
         "domain": [
          0,
          1
         ],
         "title": {
          "text": "Date"
         }
        },
        "yaxis": {
         "anchor": "x",
         "domain": [
          0,
          1
         ],
         "title": {
          "text": "value"
         }
        }
       }
      }
     },
     "metadata": {},
     "output_type": "display_data"
    }
   ],
   "source": [
    "# Plot stock price\n",
    "six_month_ago = stock.index[-1] - pd.DateOffset(months = 6)\n",
    "six_month_ago = stock.index[stock.index > six_month_ago].min().strftime(\"%Y-%m-%d\")\n",
    "stock_to_show = stock.loc[stock.index > six_month_ago]\n",
    "fig = px.line(stock_to_show, \n",
    "              x=stock_to_show.index, \n",
    "              y=[\"Close\", \"SMA 200\", \"SMA 50\"], \n",
    "              title=f\"{ticker} Stock Price & SMAs\")\n",
    "\n",
    "fig.show()"
   ]
  },
  {
   "cell_type": "code",
   "execution_count": 15,
   "metadata": {},
   "outputs": [
    {
     "name": "stdout",
     "output_type": "stream",
     "text": [
      "sector Communication Services\n",
      "industry Internet Content & Information\n"
     ]
    }
   ],
   "source": [
    "ticker = 'META'\n",
    "\n",
    "print('sector', yf.Ticker(ticker).info['sector'])\n",
    "print('industry', yf.Ticker(ticker).info['industry'])"
   ]
  },
  {
   "cell_type": "code",
   "execution_count": 16,
   "metadata": {},
   "outputs": [
    {
     "data": {
      "text/plain": [
       "{'address1': '1 Meta Way',\n",
       " 'city': 'Menlo Park',\n",
       " 'state': 'CA',\n",
       " 'zip': '94025',\n",
       " 'country': 'United States',\n",
       " 'phone': '650 543 4800',\n",
       " 'website': 'https://investor.atmeta.com',\n",
       " 'industry': 'Internet Content & Information',\n",
       " 'industryKey': 'internet-content-information',\n",
       " 'industryDisp': 'Internet Content & Information',\n",
       " 'sector': 'Communication Services',\n",
       " 'sectorKey': 'communication-services',\n",
       " 'sectorDisp': 'Communication Services',\n",
       " 'longBusinessSummary': 'Meta Platforms, Inc. engages in the development of products that enable people to connect and share with friends and family through mobile devices, personal computers, virtual reality and mixed reality headsets, augmented reality, and wearables worldwide. It operates through two segments, Family of Apps (FoA) and Reality Labs (RL). The FoA segment offers Facebook, which enables people to build community through feed, reels, stories, groups, marketplace, and other; Instagram that brings people closer through instagram feed, stories, reels, live, and messaging; Messenger, a messaging application for people to connect with friends, family, communities, and businesses across platforms and devices through text, audio, and video calls; Threads, an application for text-based updates and public conversations; and WhatsApp, a messaging application that is used by people and businesses to communicate and transact in a private way. The RL segment provides virtual, augmented, and mixed reality related products comprising consumer hardware, software, and content that help people feel connected, anytime, and anywhere. The company was formerly known as Facebook, Inc. and changed its name to Meta Platforms, Inc. in October 2021. The company was incorporated in 2004 and is headquartered in Menlo Park, California.',\n",
       " 'fullTimeEmployees': 74067,\n",
       " 'companyOfficers': [{'maxAge': 1,\n",
       "   'name': 'Mr. Mark Elliot Zuckerberg',\n",
       "   'age': 40,\n",
       "   'title': 'Founder, Chairman & CEO',\n",
       "   'yearBorn': 1984,\n",
       "   'fiscalYear': 2023,\n",
       "   'totalPay': 24399968,\n",
       "   'exercisedValue': 0,\n",
       "   'unexercisedValue': 0},\n",
       "  {'maxAge': 1,\n",
       "   'name': 'Ms. Susan J. S. Li',\n",
       "   'age': 38,\n",
       "   'title': 'Chief Financial Officer',\n",
       "   'yearBorn': 1986,\n",
       "   'fiscalYear': 2023,\n",
       "   'totalPay': 1963161,\n",
       "   'exercisedValue': 0,\n",
       "   'unexercisedValue': 0},\n",
       "  {'maxAge': 1,\n",
       "   'name': 'Mr. Javier  Olivan',\n",
       "   'age': 47,\n",
       "   'title': 'Chief Operating Officer',\n",
       "   'yearBorn': 1977,\n",
       "   'fiscalYear': 2023,\n",
       "   'totalPay': 4065442,\n",
       "   'exercisedValue': 0,\n",
       "   'unexercisedValue': 0},\n",
       "  {'maxAge': 1,\n",
       "   'name': 'Mr. Andrew  Bosworth',\n",
       "   'age': 42,\n",
       "   'title': 'Chief Technology Officer',\n",
       "   'yearBorn': 1982,\n",
       "   'fiscalYear': 2023,\n",
       "   'totalPay': 2000988,\n",
       "   'exercisedValue': 0,\n",
       "   'unexercisedValue': 0},\n",
       "  {'maxAge': 1,\n",
       "   'name': 'Mr. Christopher K. Cox',\n",
       "   'age': 41,\n",
       "   'title': 'Chief Product Officer',\n",
       "   'yearBorn': 1983,\n",
       "   'fiscalYear': 2023,\n",
       "   'totalPay': 2013913,\n",
       "   'exercisedValue': 0,\n",
       "   'unexercisedValue': 0},\n",
       "  {'maxAge': 1,\n",
       "   'name': 'Mr. Aaron A. Anderson',\n",
       "   'title': 'Chief Accounting Officer',\n",
       "   'fiscalYear': 2023,\n",
       "   'exercisedValue': 0,\n",
       "   'unexercisedValue': 0},\n",
       "  {'maxAge': 1,\n",
       "   'name': 'Mr. Atish  Banerjea',\n",
       "   'age': 58,\n",
       "   'title': 'Chief Information Officer',\n",
       "   'yearBorn': 1966,\n",
       "   'fiscalYear': 2023,\n",
       "   'exercisedValue': 0,\n",
       "   'unexercisedValue': 0},\n",
       "  {'maxAge': 1,\n",
       "   'name': 'Ms. Jennifer G. Newstead J.D.',\n",
       "   'age': 54,\n",
       "   'title': 'Chief Legal Officer',\n",
       "   'yearBorn': 1970,\n",
       "   'fiscalYear': 2023,\n",
       "   'totalPay': 3079624,\n",
       "   'exercisedValue': 0,\n",
       "   'unexercisedValue': 0},\n",
       "  {'maxAge': 1,\n",
       "   'name': 'Mr. Henry T. A. Moniz',\n",
       "   'age': 58,\n",
       "   'title': 'Chief Compliance Officer',\n",
       "   'yearBorn': 1966,\n",
       "   'fiscalYear': 2023,\n",
       "   'exercisedValue': 0,\n",
       "   'unexercisedValue': 0},\n",
       "  {'maxAge': 1,\n",
       "   'name': 'Mr. Alexander P. Schultz',\n",
       "   'age': 41,\n",
       "   'title': 'Chief Marketing Officer and VP of Product, Growth, Analytics & Internationalization',\n",
       "   'yearBorn': 1983,\n",
       "   'fiscalYear': 2023,\n",
       "   'exercisedValue': 0,\n",
       "   'unexercisedValue': 0}],\n",
       " 'auditRisk': 10,\n",
       " 'boardRisk': 10,\n",
       " 'compensationRisk': 10,\n",
       " 'shareHolderRightsRisk': 10,\n",
       " 'overallRisk': 10,\n",
       " 'governanceEpochDate': 1740787200,\n",
       " 'compensationAsOfEpochDate': 1703980800,\n",
       " 'executiveTeam': [],\n",
       " 'maxAge': 86400,\n",
       " 'priceHint': 2,\n",
       " 'previousClose': 590.115,\n",
       " 'open': 603.02,\n",
       " 'dayLow': 594.78,\n",
       " 'dayHigh': 608.86,\n",
       " 'regularMarketPreviousClose': 590.115,\n",
       " 'regularMarketOpen': 603.02,\n",
       " 'regularMarketDayLow': 594.78,\n",
       " 'regularMarketDayHigh': 608.86,\n",
       " 'dividendRate': 2.1,\n",
       " 'dividendYield': 0.35,\n",
       " 'exDividendDate': 1741910400,\n",
       " 'payoutRatio': 0.0838,\n",
       " 'beta': 1.231,\n",
       " 'trailingPE': 25.443886,\n",
       " 'forwardPE': 24.01581,\n",
       " 'volume': 12364505,\n",
       " 'regularMarketVolume': 12364505,\n",
       " 'averageVolume': 15547928,\n",
       " 'averageVolume10days': 16490320,\n",
       " 'averageDailyVolume10Day': 16490320,\n",
       " 'bid': 0.0,\n",
       " 'ask': 0.0,\n",
       " 'bidSize': 0,\n",
       " 'askSize': 0,\n",
       " 'marketCap': 1539451650048,\n",
       " 'fiftyTwoWeekLow': 414.5,\n",
       " 'fiftyTwoWeekHigh': 740.91,\n",
       " 'priceToSalesTrailing12Months': 9.358312,\n",
       " 'fiftyDayAverage': 654.607,\n",
       " 'twoHundredDayAverage': 570.2143,\n",
       " 'trailingAnnualDividendRate': 2.0,\n",
       " 'trailingAnnualDividendYield': 0.00338917,\n",
       " 'currency': 'USD',\n",
       " 'tradeable': False,\n",
       " 'enterpriseValue': 1511405387776,\n",
       " 'profitMargins': 0.37909,\n",
       " 'floatShares': 2185534482,\n",
       " 'sharesOutstanding': 2189900032,\n",
       " 'sharesShort': 23941117,\n",
       " 'sharesShortPriorMonth': 26723031,\n",
       " 'sharesShortPreviousMonthDate': 1738281600,\n",
       " 'dateShortInterest': 1740700800,\n",
       " 'sharesPercentSharesOut': 0.0094,\n",
       " 'heldPercentInsiders': 0.00156,\n",
       " 'heldPercentInstitutions': 0.79263,\n",
       " 'shortRatio': 1.41,\n",
       " 'shortPercentOfFloat': 0.0109,\n",
       " 'impliedSharesOutstanding': 2533659904,\n",
       " 'bookValue': 72.075,\n",
       " 'priceToBook': 8.430107,\n",
       " 'lastFiscalYearEnd': 1735603200,\n",
       " 'nextFiscalYearEnd': 1767139200,\n",
       " 'mostRecentQuarter': 1735603200,\n",
       " 'earningsQuarterlyGrowth': 0.487,\n",
       " 'netIncomeToCommon': 62359998464,\n",
       " 'trailingEps': 23.88,\n",
       " 'forwardEps': 25.3,\n",
       " 'enterpriseToRevenue': 9.188,\n",
       " 'enterpriseToEbitda': 18.054,\n",
       " '52WeekChange': 0.22258437,\n",
       " 'SandP52WeekChange': 0.09506309,\n",
       " 'lastDividendValue': 0.525,\n",
       " 'lastDividendDate': 1741910400,\n",
       " 'quoteType': 'EQUITY',\n",
       " 'currentPrice': 607.6,\n",
       " 'targetHighPrice': 935.0,\n",
       " 'targetLowPrice': 505.0,\n",
       " 'targetMeanPrice': 765.849,\n",
       " 'targetMedianPrice': 775.115,\n",
       " 'recommendationMean': 1.49206,\n",
       " 'recommendationKey': 'strong_buy',\n",
       " 'numberOfAnalystOpinions': 58,\n",
       " 'totalCash': 77814996992,\n",
       " 'totalCashPerShare': 30.712,\n",
       " 'ebitda': 83716997120,\n",
       " 'totalDebt': 49769000960,\n",
       " 'quickRatio': 2.822,\n",
       " 'currentRatio': 2.978,\n",
       " 'totalRevenue': 164500996096,\n",
       " 'debtToEquity': 27.25,\n",
       " 'revenuePerShare': 64.918,\n",
       " 'returnOnAssets': 0.16863,\n",
       " 'returnOnEquity': 0.37140998,\n",
       " 'grossProfits': 134371000320,\n",
       " 'freeCashflow': 36095000576,\n",
       " 'operatingCashflow': 91328004096,\n",
       " 'earningsGrowth': 0.514,\n",
       " 'revenueGrowth': 0.206,\n",
       " 'grossMargins': 0.81684,\n",
       " 'ebitdaMargins': 0.50891,\n",
       " 'operatingMargins': 0.45278,\n",
       " 'financialCurrency': 'USD',\n",
       " 'symbol': 'META',\n",
       " 'language': 'en-US',\n",
       " 'region': 'US',\n",
       " 'typeDisp': 'Equity',\n",
       " 'quoteSourceName': 'Nasdaq Real Time Price',\n",
       " 'triggerable': True,\n",
       " 'customPriceAlertConfidence': 'HIGH',\n",
       " 'shortName': 'Meta Platforms, Inc.',\n",
       " 'longName': 'Meta Platforms, Inc.',\n",
       " 'messageBoardId': 'finmb_20765463',\n",
       " 'exchangeTimezoneName': 'America/New_York',\n",
       " 'exchangeTimezoneShortName': 'EDT',\n",
       " 'gmtOffSetMilliseconds': -14400000,\n",
       " 'market': 'us_market',\n",
       " 'esgPopulated': False,\n",
       " 'corporateActions': [],\n",
       " 'postMarketTime': 1741996797,\n",
       " 'regularMarketTime': 1741982401,\n",
       " 'exchange': 'NMS',\n",
       " 'marketState': 'CLOSED',\n",
       " 'cryptoTradeable': False,\n",
       " 'regularMarketChangePercent': 2.9629793,\n",
       " 'regularMarketPrice': 607.6,\n",
       " 'hasPrePostMarketData': True,\n",
       " 'firstTradeDateMilliseconds': 1337347800000,\n",
       " 'postMarketChangePercent': 0.0246913,\n",
       " 'postMarketPrice': 607.75,\n",
       " 'postMarketChange': 0.150024,\n",
       " 'regularMarketChange': 17.484985,\n",
       " 'regularMarketDayRange': '594.78 - 608.86',\n",
       " 'fullExchangeName': 'NasdaqGS',\n",
       " 'averageDailyVolume3Month': 15547928,\n",
       " 'fiftyTwoWeekLowChange': 193.09998,\n",
       " 'fiftyTwoWeekLowChangePercent': 0.46586242,\n",
       " 'fiftyTwoWeekRange': '414.5 - 740.91',\n",
       " 'fiftyTwoWeekHighChange': -133.31,\n",
       " 'fiftyTwoWeekHighChangePercent': -0.1799274,\n",
       " 'fiftyTwoWeekChangePercent': 22.258436,\n",
       " 'dividendDate': 1742947200,\n",
       " 'earningsTimestamp': 1738186806,\n",
       " 'earningsTimestampStart': 1745319540,\n",
       " 'earningsTimestampEnd': 1745841600,\n",
       " 'earningsCallTimestampStart': 1738188000,\n",
       " 'earningsCallTimestampEnd': 1738188000,\n",
       " 'isEarningsDateEstimate': True,\n",
       " 'epsTrailingTwelveMonths': 23.88,\n",
       " 'epsForward': 25.3,\n",
       " 'epsCurrentYear': 25.35194,\n",
       " 'priceEpsCurrentYear': 23.966606,\n",
       " 'fiftyDayAverageChange': -47.00702,\n",
       " 'fiftyDayAverageChangePercent': -0.07180953,\n",
       " 'twoHundredDayAverageChange': 37.38568,\n",
       " 'twoHundredDayAverageChangePercent': 0.06556427,\n",
       " 'sourceInterval': 15,\n",
       " 'exchangeDataDelayedBy': 0,\n",
       " 'ipoExpectedDate': '2022-06-09',\n",
       " 'prevName': 'Facebook, Inc.',\n",
       " 'nameChangeDate': '2025-03-16',\n",
       " 'averageAnalystRating': '1.5 - Strong Buy',\n",
       " 'displayName': 'Meta Platforms',\n",
       " 'trailingPegRatio': 1.2195}"
      ]
     },
     "execution_count": 16,
     "metadata": {},
     "output_type": "execute_result"
    }
   ],
   "source": [
    "yf.Ticker(ticker).info"
   ]
  },
  {
   "cell_type": "code",
   "execution_count": null,
   "metadata": {},
   "outputs": [],
   "source": []
  },
  {
   "cell_type": "code",
   "execution_count": null,
   "metadata": {},
   "outputs": [],
   "source": []
  },
  {
   "cell_type": "code",
   "execution_count": null,
   "metadata": {},
   "outputs": [],
   "source": []
  },
  {
   "cell_type": "code",
   "execution_count": null,
   "metadata": {},
   "outputs": [],
   "source": []
  },
  {
   "cell_type": "code",
   "execution_count": null,
   "metadata": {},
   "outputs": [],
   "source": []
  }
 ],
 "metadata": {
  "kernelspec": {
   "display_name": ".venv",
   "language": "python",
   "name": "python3"
  },
  "language_info": {
   "codemirror_mode": {
    "name": "ipython",
    "version": 3
   },
   "file_extension": ".py",
   "mimetype": "text/x-python",
   "name": "python",
   "nbconvert_exporter": "python",
   "pygments_lexer": "ipython3",
   "version": "3.13.1"
  }
 },
 "nbformat": 4,
 "nbformat_minor": 2
}
